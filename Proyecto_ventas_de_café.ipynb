{
  "nbformat": 4,
  "nbformat_minor": 0,
  "metadata": {
    "colab": {
      "provenance": [],
      "include_colab_link": true
    },
    "kernelspec": {
      "name": "python3",
      "display_name": "Python 3"
    },
    "language_info": {
      "name": "python"
    }
  },
  "cells": [
    {
      "cell_type": "markdown",
      "metadata": {
        "id": "view-in-github",
        "colab_type": "text"
      },
      "source": [
        "<a href=\"https://colab.research.google.com/github/12Brainer/Predicci-n-del-Precio-Internacional-del-Caf-Ar-bica/blob/main/Proyecto_ventas_de_caf%C3%A9.ipynb\" target=\"_parent\"><img src=\"https://colab.research.google.com/assets/colab-badge.svg\" alt=\"Open In Colab\"/></a>"
      ]
    },
    {
      "cell_type": "markdown",
      "source": [
        "# Instituto Tecnológico de Costa Rica  \n",
        "## Programa de Ciencia de Datos\n",
        "\n",
        "---\n",
        "\n",
        "# 📊 Predicción del Precio Internacional del Café Arábica  \n",
        "### Un Enfoque con Random Forest y Perceptrón Multicapa (MLP)  \n",
        "\n",
        "---\n",
        "\n",
        "📚 **Módulo:** Aprendizaje Automático  \n",
        "👤 **Autores:** *Brainer Fallas Prado, Raamsés Olivier Martínez Gutiérrez*  \n",
        "👨‍🏫 **Profesora:** *María Auxiliadora Mora*  \n",
        "📅 **2025**  \n"
      ],
      "metadata": {
        "id": "GSoinLhs1590"
      }
    },
    {
      "cell_type": "markdown",
      "source": [
        "# Proyecto"
      ],
      "metadata": {
        "id": "31_Yk0NEVzTX"
      }
    },
    {
      "cell_type": "markdown",
      "source": [
        "## Introducción"
      ],
      "metadata": {
        "id": "gKiBZlNvQcnL"
      }
    },
    {
      "cell_type": "markdown",
      "source": [
        "### Justificación"
      ],
      "metadata": {
        "id": "ESlaHpFIwq-R"
      }
    },
    {
      "cell_type": "markdown",
      "source": [
        "\n",
        "\n",
        "El precio internacional del café arábica se establece mediante el Contrato C de la Intercontinental Exchange (ICE), el cual constituye la principal referencia para la determinación del valor del café costarricense en el mercado internacional.\n",
        "\n",
        "Este precio presenta una alta volatilidad, al estar sujeto a factores como la oferta y demanda global, las condiciones climáticas en países productores, la especulación financiera y las dinámicas macroeconómicas. Tales fluctuaciones generan un impacto directo en la rentabilidad de los productores y en la estabilidad financiera de las cooperativas cafetaleras del país.\n",
        "\n",
        "En la cosecha del año 2022 - 2023, el precio que recibe el productor de café fue considerablemente más bajo que en la anterior, lo que refleja una caída significativa y pone en evidencia los riesgos económicos que enfrenta el sector, evidenciando la magnitud de los riesgos económicos asociados [1].\n",
        "\n",
        "Ante este panorama, se justifica el desarrollo de modelos predictivos basados en machine learning que permitan anticipar el comportamiento de los precios de futuros del café. En la literatura, algoritmos como Random Forest y el Perceptrón Multicapa (MLP) han mostrado un desempeño superior frente a modelos lineales en la predicción de precios de commodities agrícolas y activos financieros [3].\n",
        "\n",
        "La implementación de estas metodologías aportaría a los caficultores costarricenses una herramienta objetiva de apoyo a la toma de decisiones, fortaleciendo la planificación y la gestión de riesgos en la comercialización del café."
      ],
      "metadata": {
        "id": "kXAy_Q8Rwyyi"
      }
    },
    {
      "cell_type": "markdown",
      "source": [
        "### Antecedentes\n",
        "\n",
        "En la literatura se han desarrollado diversos estudios que buscan predecir precios de commodities y activos financieros mediante técnicas de aprendizaje automático. A continuación se presentan cuatro trabajos relevantes que guardan relación con el presente proyecto:\n",
        "\n",
        "## 1. Predicción de precios de futuros de cacao con MLP y LSTM\n",
        "\n",
        "**Objetivo:**  \n",
        "Comparar el desempeño de perceptrones multicapa (MLP) y redes LSTM en la predicción de los precios de futuros de cacao.\n",
        "\n",
        "**Relación con el proyecto:**  \n",
        "El estudio aporta evidencia sobre la aplicabilidad de redes neuronales profundas en la predicción de commodities agrícolas, lo que sustenta la elección de un perceptrón multicapa (MLP) como modelo a implementar en este proyecto.\n",
        "\n",
        "**Referencia:** [3]\n",
        "\n",
        "---\n",
        "\n",
        "## 2. Metodología para la estimación de precios de café mediante Perceptrón Multicapa (MLP) y Extreme Learning Machines (ELM)\n",
        "\n",
        "**Objetivo:**  \n",
        "Desarrollar y presentar una metodología para estimar los precios de café utilizando redes neuronales, incluyendo Perceptrón Multicapa (MLP) y Extreme Learning Machines (ELM), incorporando etapas de preprocesamiento de datos, eliminación de componentes no estacionarios (tendencia y estacionalidad) y selección de rezagos temporales, con el fin de evaluar el desempeño predictivo de estas redes frente a modelos tradicionales como ES, AR y ARIMA.\n",
        "\n",
        "**Relación con el proyecto:**  \n",
        "El artículo explica en detalle el modelo Perceptrón Multicapa (MLP), incluyendo fundamentos matemáticos y de arquitectura.\n",
        "\n",
        "**Referencia:** [2]\n",
        "\n",
        "---\n",
        "\n",
        "## 3. Investigación sobre la predicción de precios de futuros de café basada en aprendizaje automático\n",
        "\n",
        "**Objetivo:**  \n",
        "Analizar el mercado de futuros de café y los factores que influyen en sus precios, utilizando métodos de machine learning para predecir tendencias de precios a corto y largo plazo. En el estudio, se seleccionaron cinco indicadores del mercado y un indicador técnico (la tasa de sesgo) como entradas, y se predijo el precio de cierre del día siguiente, así como tendencias a corto (50 días) y largo plazo (200 días), mediante regresión lineal y Random Forest.\n",
        "\n",
        "**Relación con el proyecto:**  \n",
        "El artículo permite comprender de manera detallada los fundamentos del mercado de futuros de café y los indicadores clave que influyen en sus precios. Esta comprensión resulta directamente aplicable al proyecto, ya que facilita la selección y justificación de los features del dataset que se emplearán para entrenar modelos predictivos, como Random Forest y Perceptrón Multicapa (MLP), orientados a la predicción de los futuros de café (KC=F).\n",
        "\n",
        "**Referencia:** [4]\n",
        "\n",
        "---\n",
        "\n",
        "## 4. Predicción de la dirección del precio de Bitcoin con Random Forests: ¿Qué importancia tienen las tasas de interés, la inflación y la volatilidad del mercado?\n",
        "\n",
        "**Objetivo:**  \n",
        "Describir y analizar modelos de aprendizaje automático basados en árboles, como Random Forest y bagging, para predecir la dirección de precios de activos financieros (Bitcoin y oro).\n",
        "\n",
        "**Relación con el proyecto:**  \n",
        "El artículo proporciona un marco conceptual y metodológico sobre el uso de Random Forest y árboles de decisión en la predicción de precios financieros, ofreciendo fundamentos aplicables a la predicción de futuros de café (KC=F). Permite comprender cómo seleccionar y procesar los features del dataset, así como las ventajas y limitaciones de los modelos basados en árboles, contribuyendo a un diseño más sólido de los experimentos.\n",
        "\n",
        "**Referencia:** [5]\n"
      ],
      "metadata": {
        "id": "D5pgSSmizVDQ"
      }
    },
    {
      "cell_type": "markdown",
      "source": [
        "###  Marco teórico\n"
      ],
      "metadata": {
        "id": "VcPrMeoq0vni"
      }
    },
    {
      "cell_type": "markdown",
      "source": [
        "#### Fundamentos Matemáticos\n",
        "\n",
        "#### Random Forest\n",
        "\n",
        "Random Forest es un **modelo de ensamble basado en árboles de decisión**, construido a partir de $B$ árboles independientes $T_b(x)$ entrenados sobre **muestras bootstrap** del dataset.\n",
        "\n",
        "- **Regresión:** la predicción se obtiene promediando los resultados de los árboles:\n",
        "\n",
        "$$\n",
        "\\hat{f}_{RF}(x) = \\frac{1}{B} \\sum_{b=1}^{B} T_b(x)\n",
        "$$\n",
        "\n",
        "- **Clasificación:** se utiliza votación mayoritaria:\n",
        "\n",
        "$$\n",
        "\\hat{y}_{RF}(x) = \\text{mode}\\{ T_1(x), T_2(x), \\dots, T_B(x) \\}\n",
        "$$\n",
        "\n",
        "**Características clave:**\n",
        "\n",
        "- Bootstrap sampling: cada árbol se entrena con una muestra aleatoria del dataset.  \n",
        "- Selección aleatoria de características: cada nodo evalúa solo un subconjunto de variables.  \n",
        "- Agregación: promedio o votación para reducir varianza y sobreajuste.\n",
        "\n",
        "---\n",
        "\n",
        "#### Perceptrón Multicapa (MLP)\n",
        "\n",
        "El MLP es una **red neuronal feedforward** con capas ocultas capaz de aproximar funciones no lineales complejas.\n",
        "\n",
        "- Cada neurona calcula:\n",
        "\n",
        "$$\n",
        "h_j = \\sigma \\Big( \\sum_{i=1}^{n} w_{ij} x_i + b_j \\Big)\n",
        "$$\n",
        "\n",
        "Donde:  \n",
        "- $x_i$: entrada $i$  \n",
        "- $w_{ij}$: peso de la neurona  \n",
        "- $b_j$: sesgo  \n",
        "- $\\sigma$: función de activación (ReLU, Sigmoid, Tanh)  \n",
        "- $h_j$: salida de la neurona\n",
        "\n",
        "- **Salida final:**  \n",
        "  - Regresión:\n",
        "\n",
        "$$\n",
        "\\hat{y} = \\sum_j w_j^{(out)} h_j + b^{(out)}\n",
        "$$\n",
        "\n",
        "  - Clasificación (softmax):\n",
        "\n",
        "$$\n",
        "\\hat{y}_k = \\frac{e^{z_k}}{\\sum_{l} e^{z_l}}\n",
        "$$\n",
        "\n",
        "- **Entrenamiento:** mediante **backpropagation** y gradiente descendente:\n",
        "\n",
        "$$\n",
        "w_{ij} \\leftarrow w_{ij} - \\eta \\frac{\\partial L}{\\partial w_{ij}}\n",
        "$$\n",
        "\n",
        "**Características clave:**\n",
        "\n",
        "- Capacidad de modelar relaciones no lineales.  \n",
        "- Número de capas y neuronas afecta capacidad de generalización.  \n",
        "- Regularización (dropout, L2) para evitar sobreajuste.\n",
        "\n",
        "---\n",
        "\n",
        "#### Media Móvil (Moving Average, MA)\n",
        "\n",
        "La **media móvil** es un indicador que suaviza la serie temporal para identificar tendencias a corto y mediano plazo. Calcula el promedio de los últimos $t$ valores de la serie.  \n",
        "\n",
        "- **Definición matemática (media móvil simple de orden $t$):**\n",
        "\n",
        "$$\n",
        "MA_t = \\frac{1}{t} \\sum_{i=0}^{t-1} P_{t-i}\n",
        "$$\n",
        "\n",
        "Donde:  \n",
        "- $P_{t-i}$: precio de cierre u otro valor en el instante $t-i$  \n",
        "- $t$: ventana temporal de la media móvil\n",
        "\n",
        "**Características clave:**\n",
        "\n",
        "- Reduce el ruido en series temporales financieras.  \n",
        "- Base para indicadores técnicos como BIAS, RSI, MACD, etc.  \n",
        "\n",
        "---\n",
        "\n",
        "#### Indicador Técnico BIAS\n",
        "\n",
        "El **BIAS** mide la desviación relativa de un precio respecto a su media móvil, indicando condiciones de **sobrecompra o sobreventa**.\n",
        "\n",
        "- **Definición matemática:**\n",
        "\n",
        "$$\n",
        "BIAS_t = \\frac{P_t - MA_t}{MA_t}\n",
        "$$\n",
        "\n",
        "Donde:  \n",
        "- $P_t$: precio de cierre en el tiempo $t$  \n",
        "- $MA_t$: media móvil en el mismo periodo  \n",
        "\n",
        "**Interpretación:**\n",
        "\n",
        "- BIAS positivo alto $\\Rightarrow$ precio significativamente por encima de la media móvil (posible sobrecompra).  \n",
        "- BIAS negativo alto $\\Rightarrow$ precio significativamente por debajo de la media móvil (posible sobreventa).  \n"
      ],
      "metadata": {
        "id": "X5Tv3CiKQIS5"
      }
    },
    {
      "cell_type": "markdown",
      "source": [
        "### Problema"
      ],
      "metadata": {
        "id": "d1iO8S5IKlSY"
      }
    },
    {
      "cell_type": "markdown",
      "source": [
        "Se busca **predecir el precio de cierre** de los futuros de café arábica (Contrato C) negociados en la **Intercontinental Exchange (ICE)**, utilizando datos históricos diarios (2020–2025) con las siguientes variables de mercado (**OHLCV**):\n",
        "\n",
        "- **Open:** precio de apertura  \n",
        "- **High:** precio máximo  \n",
        "- **Low:** precio mínimo  \n",
        "- **Close:** precio de cierre (**target**)  \n",
        "- **Volume:** volumen de negociación  \n",
        "\n",
        "El desafío principal radica en **modelar relaciones no lineales y patrones complejos** presentes en los datos de series temporales financieras, con el objetivo de generar predicciones confiables que puedan servir como herramienta de apoyo para los caficultores costarricenses en la **planificación y gestión de riesgos** durante la comercialización del café en Costa Rica.\n"
      ],
      "metadata": {
        "id": "1RnhDK6vKnzN"
      }
    },
    {
      "cell_type": "markdown",
      "source": [
        "### Objetivo\n",
        "Desarrollar modelos predictivos de aprendizaje automático capaces de estimar de manera precisa el precio de cierre del futuro de café, comparando dos enfoques:\n",
        "\n",
        "**Random Forest Regressor:** para capturar relaciones no lineales de forma interpretable.\n",
        "\n",
        "**Perceptrón Multicapa (MLP):** para identificar patrones complejos mediante redes neuronales profunda\n",
        "\n",
        "Los modelos se evaluarán utilizando métricas de regresión como:\n",
        "\n",
        "**R² (Coeficiente de determinación):** mide qué proporción de la variabilidad de la variable objetivo es explicada por el modelo.\n",
        "\n",
        "**MSE (Error Cuadrático Medio):** promedio de los cuadrados de las diferencias entre los valores predichos y los reales.\n",
        "\n",
        "**MAE (Error Absoluto Medio):** promedio de las diferencias absolutas entre los valores predichos y los reales."
      ],
      "metadata": {
        "id": "CKLY2RxbLzhJ"
      }
    },
    {
      "cell_type": "markdown",
      "source": [
        "## Metodología"
      ],
      "metadata": {
        "id": "GS-BytcRJhem"
      }
    },
    {
      "cell_type": "markdown",
      "source": [
        "### Etapas![image.png](data:image/png;base64,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)"
      ],
      "metadata": {
        "id": "B2mwKcrtQ-ja"
      }
    },
    {
      "cell_type": "markdown",
      "source": [
        "##### **Explicación de etapas**\n",
        "\n",
        "### Revisión bibliográfica\n",
        "- Analizar al menos cuatro artículos científicos sobre predicción de precios de commodities con machine learning.\n",
        "- Extraer metodologías, métricas y resultados relevantes para la implementación.\n",
        "\n",
        "### Extracción y preprocesamiento de datos\n",
        "- **Fuente:** Yahoo Finance (KC=F, 2020–2025).\n",
        "- Descarga y extracción de los datos históricos.\n",
        "- Limpieza de valores nulos, normalización de variables, feature engineering.\n",
        "\n",
        "### Exploración y análisis de características\n",
        "- Cálculo de estadísticas descriptivas: media, mediana, desviación estándar, máximos y mínimos.\n",
        "- Distribución de características.\n",
        "- Rescaling, imputación y manejo de datos outliers.\n",
        "\n",
        "### Implementación de modelos\n",
        "- Split de datos en subconjuntos (train/test)\n",
        "- Entrenamiento de Random Forest Regressor y Perceptrón Multicapa (MLP).\n",
        "- Obtención de las mejores configuraciones de hiperparámetros por modelo\n",
        "\n",
        "### Evaluación y comparación\n",
        "- Métricas a usar: de regresion (R2, MSE, MAE)\n",
        "- Interpretación de resultados entre modelos.\n",
        "\n",
        "### Documentación y presentación\n",
        "- Redacción de introducción, metodología, resultados, discusión, conclusiones y referencias (formato IEEE).\n",
        "- Elaboración de Jupyter Notebook documentado para presentación y entrega.\n"
      ],
      "metadata": {
        "id": "BH74qP1eGoBn"
      }
    },
    {
      "cell_type": "markdown",
      "source": [
        "### Importación de librerias\n"
      ],
      "metadata": {
        "id": "SqrMDSNSVqVC"
      }
    },
    {
      "cell_type": "code",
      "execution_count": null,
      "metadata": {
        "id": "9S_SMqRzcdWg"
      },
      "outputs": [],
      "source": [
        "# General libraries\n",
        "import numpy as np\n",
        "import pandas as pd\n",
        "from prettytable import PrettyTable\n",
        "\n",
        "# Form Scikit-Learn\n",
        "from sklearn.metrics import mean_squared_error, mean_absolute_error\n",
        "from sklearn.preprocessing import MinMaxScaler\n",
        "from sklearn.datasets import fetch_california_housing\n",
        "\n",
        "# Anomalies detection\n",
        "from sklearn.ensemble import IsolationForest\n",
        "\n",
        "# From Pytorch\n",
        "import torch\n",
        "import torch.nn as nn\n",
        "import torch.optim as optim\n",
        "from torch.utils.data import Dataset, DataLoader, random_split\n"
      ]
    },
    {
      "cell_type": "markdown",
      "source": [
        "### Obtención de datos y preprocesamiento:\n",
        "Se utiliza la librería **yfinance** para descargar los datos del precio del café del periodo de los últimos 5 años (2020-2025) con intervalo de 1 día"
      ],
      "metadata": {
        "id": "Qj1soTnvKrL2"
      }
    },
    {
      "cell_type": "code",
      "source": [
        "# Descarga de librerías\n",
        "!pip install yfinance pandas matplotlib\n"
      ],
      "metadata": {
        "colab": {
          "base_uri": "https://localhost:8080/"
        },
        "id": "gzpdiqt2LWZ4",
        "outputId": "d07c953c-8c8d-4a84-bf6b-cc8a384aef50"
      },
      "execution_count": null,
      "outputs": [
        {
          "output_type": "stream",
          "name": "stdout",
          "text": [
            "Requirement already satisfied: yfinance in /usr/local/lib/python3.12/dist-packages (0.2.65)\n",
            "Requirement already satisfied: pandas in /usr/local/lib/python3.12/dist-packages (2.2.2)\n",
            "Requirement already satisfied: matplotlib in /usr/local/lib/python3.12/dist-packages (3.10.0)\n",
            "Requirement already satisfied: numpy>=1.16.5 in /usr/local/lib/python3.12/dist-packages (from yfinance) (2.0.2)\n",
            "Requirement already satisfied: requests>=2.31 in /usr/local/lib/python3.12/dist-packages (from yfinance) (2.32.4)\n",
            "Requirement already satisfied: multitasking>=0.0.7 in /usr/local/lib/python3.12/dist-packages (from yfinance) (0.0.12)\n",
            "Requirement already satisfied: platformdirs>=2.0.0 in /usr/local/lib/python3.12/dist-packages (from yfinance) (4.3.8)\n",
            "Requirement already satisfied: pytz>=2022.5 in /usr/local/lib/python3.12/dist-packages (from yfinance) (2025.2)\n",
            "Requirement already satisfied: frozendict>=2.3.4 in /usr/local/lib/python3.12/dist-packages (from yfinance) (2.4.6)\n",
            "Requirement already satisfied: peewee>=3.16.2 in /usr/local/lib/python3.12/dist-packages (from yfinance) (3.18.2)\n",
            "Requirement already satisfied: beautifulsoup4>=4.11.1 in /usr/local/lib/python3.12/dist-packages (from yfinance) (4.13.5)\n",
            "Requirement already satisfied: curl_cffi>=0.7 in /usr/local/lib/python3.12/dist-packages (from yfinance) (0.13.0)\n",
            "Requirement already satisfied: protobuf>=3.19.0 in /usr/local/lib/python3.12/dist-packages (from yfinance) (5.29.5)\n",
            "Requirement already satisfied: websockets>=13.0 in /usr/local/lib/python3.12/dist-packages (from yfinance) (15.0.1)\n",
            "Requirement already satisfied: python-dateutil>=2.8.2 in /usr/local/lib/python3.12/dist-packages (from pandas) (2.9.0.post0)\n",
            "Requirement already satisfied: tzdata>=2022.7 in /usr/local/lib/python3.12/dist-packages (from pandas) (2025.2)\n",
            "Requirement already satisfied: contourpy>=1.0.1 in /usr/local/lib/python3.12/dist-packages (from matplotlib) (1.3.3)\n",
            "Requirement already satisfied: cycler>=0.10 in /usr/local/lib/python3.12/dist-packages (from matplotlib) (0.12.1)\n",
            "Requirement already satisfied: fonttools>=4.22.0 in /usr/local/lib/python3.12/dist-packages (from matplotlib) (4.59.1)\n",
            "Requirement already satisfied: kiwisolver>=1.3.1 in /usr/local/lib/python3.12/dist-packages (from matplotlib) (1.4.9)\n",
            "Requirement already satisfied: packaging>=20.0 in /usr/local/lib/python3.12/dist-packages (from matplotlib) (25.0)\n",
            "Requirement already satisfied: pillow>=8 in /usr/local/lib/python3.12/dist-packages (from matplotlib) (11.3.0)\n",
            "Requirement already satisfied: pyparsing>=2.3.1 in /usr/local/lib/python3.12/dist-packages (from matplotlib) (3.2.3)\n",
            "Requirement already satisfied: soupsieve>1.2 in /usr/local/lib/python3.12/dist-packages (from beautifulsoup4>=4.11.1->yfinance) (2.7)\n",
            "Requirement already satisfied: typing-extensions>=4.0.0 in /usr/local/lib/python3.12/dist-packages (from beautifulsoup4>=4.11.1->yfinance) (4.15.0)\n",
            "Requirement already satisfied: cffi>=1.12.0 in /usr/local/lib/python3.12/dist-packages (from curl_cffi>=0.7->yfinance) (1.17.1)\n",
            "Requirement already satisfied: certifi>=2024.2.2 in /usr/local/lib/python3.12/dist-packages (from curl_cffi>=0.7->yfinance) (2025.8.3)\n",
            "Requirement already satisfied: six>=1.5 in /usr/local/lib/python3.12/dist-packages (from python-dateutil>=2.8.2->pandas) (1.17.0)\n",
            "Requirement already satisfied: charset_normalizer<4,>=2 in /usr/local/lib/python3.12/dist-packages (from requests>=2.31->yfinance) (3.4.3)\n",
            "Requirement already satisfied: idna<4,>=2.5 in /usr/local/lib/python3.12/dist-packages (from requests>=2.31->yfinance) (3.10)\n",
            "Requirement already satisfied: urllib3<3,>=1.21.1 in /usr/local/lib/python3.12/dist-packages (from requests>=2.31->yfinance) (2.5.0)\n",
            "Requirement already satisfied: pycparser in /usr/local/lib/python3.12/dist-packages (from cffi>=1.12.0->curl_cffi>=0.7->yfinance) (2.22)\n"
          ]
        }
      ]
    },
    {
      "cell_type": "code",
      "source": [
        "import yfinance as yf\n",
        "import pandas as pd\n",
        "import matplotlib.pyplot as plt\n",
        "\n",
        "# Ticker del futuro de café en Yahoo Finance\n",
        "ticker = \"KC=F\"\n",
        "\n",
        "# Descargamos datos históricos de los últimos 5 años\n",
        "data = yf.download(ticker, period=\"5y\", interval=\"1d\")\n",
        "\n",
        "# Guardamos los datos en un CSV\n",
        "data.to_csv(\"cafe_datos.csv\", index=True)\n",
        "\n",
        "print(\"Datos descargados correctamente. Primeras filas:\")\n",
        "print(data.head())"
      ],
      "metadata": {
        "colab": {
          "base_uri": "https://localhost:8080/"
        },
        "id": "rTKbtRNoLRAf",
        "outputId": "c13ebb5c-04e2-448a-ea8a-2b71df072c9d"
      },
      "execution_count": null,
      "outputs": [
        {
          "output_type": "stream",
          "name": "stderr",
          "text": [
            "/tmp/ipython-input-3310777144.py:9: FutureWarning: YF.download() has changed argument auto_adjust default to True\n",
            "  data = yf.download(ticker, period=\"5y\", interval=\"1d\")\n",
            "\r[*********************100%***********************]  1 of 1 completed\n"
          ]
        },
        {
          "output_type": "stream",
          "name": "stdout",
          "text": [
            "Datos descargados correctamente. Primeras filas:\n",
            "Price            Close        High         Low        Open Volume\n",
            "Ticker            KC=F        KC=F        KC=F        KC=F   KC=F\n",
            "Date                                                             \n",
            "2020-09-01  131.899994  132.300003  130.800003  132.250000     22\n",
            "2020-09-02  131.500000  131.050003  130.000000  130.949997     41\n",
            "2020-09-03  131.600006  131.300003  131.000000  131.300003     11\n",
            "2020-09-04  134.800003  134.500000  131.199997  131.199997     45\n",
            "2020-09-08  132.800003  129.550003  128.250000  129.000000     17\n"
          ]
        }
      ]
    },
    {
      "cell_type": "code",
      "source": [
        "# Se realiza un plot del precio de cierre (columna \"Close\")\n",
        "plt.figure(figsize=(12, 6))\n",
        "plt.plot(data.index, data['Close'], label=\"Precio de Cierre\", color=\"brown\")\n",
        "plt.title(\"Precio histórico del café (KC=F)\")\n",
        "plt.xlabel(\"Fecha\")\n",
        "plt.ylabel(\"Precio en USD\")\n",
        "plt.legend()\n",
        "plt.grid()\n",
        "plt.show()"
      ],
      "metadata": {
        "colab": {
          "base_uri": "https://localhost:8080/",
          "height": 564
        },
        "id": "bK1LdAXlWIcs",
        "outputId": "5e520bfc-1964-4ae6-d2e6-a44611d90803"
      },
      "execution_count": null,
      "outputs": [
        {
          "output_type": "display_data",
          "data": {
            "text/plain": [
              "<Figure size 1200x600 with 1 Axes>"
            ],
            "image/png": "[encoded data removed]"
          },
          "metadata": {}
        }
      ]
    },
    {
      "cell_type": "code",
      "source": [
        "# Descripción de datos usando pandas\n",
        "df = pd.read_csv(\"cafe_datos.csv\")\n",
        "\n",
        "# Mostramos los primeros 20 registros\n",
        "print(df.head(20))\n",
        "print(\"=\"*100)"
      ],
      "metadata": {
        "colab": {
          "base_uri": "https://localhost:8080/"
        },
        "id": "FcGwNN30MXJx",
        "outputId": "04ee06e0-73b3-440d-8086-16c19d4b4876"
      },
      "execution_count": null,
      "outputs": [
        {
          "output_type": "stream",
          "name": "stdout",
          "text": [
            "         Price               Close                High                 Low  \\\n",
            "0       Ticker                KC=F                KC=F                KC=F   \n",
            "1         Date                 NaN                 NaN                 NaN   \n",
            "2   2020-09-01  131.89999389648438   132.3000030517578   130.8000030517578   \n",
            "3   2020-09-02               131.5   131.0500030517578               130.0   \n",
            "4   2020-09-03  131.60000610351562   131.3000030517578               131.0   \n",
            "5   2020-09-04   134.8000030517578               134.5   131.1999969482422   \n",
            "6   2020-09-08   132.8000030517578   129.5500030517578              128.25   \n",
            "7   2020-09-09  129.64999389648438  131.39999389648438  130.39999389648438   \n",
            "8   2020-09-10               132.5               132.5               132.5   \n",
            "9   2020-09-11  133.35000610351562  133.35000610351562  133.35000610351562   \n",
            "10  2020-09-14  123.55000305175781  128.64999389648438   124.1500015258789   \n",
            "11  2020-09-15  122.19999694824219  122.19999694824219  122.19999694824219   \n",
            "12  2020-09-16  120.55000305175781   123.8499984741211  120.69999694824219   \n",
            "13  2020-09-17   118.0999984741211   119.9000015258789  118.69999694824219   \n",
            "14  2020-09-18   113.5999984741211   118.3499984741211              115.75   \n",
            "15  2020-09-21               112.0  113.44999694824219  110.80000305175781   \n",
            "16  2020-09-22   110.6500015258789  114.80000305175781   110.3499984741211   \n",
            "17  2020-09-23               110.5   112.5999984741211  109.05000305175781   \n",
            "18  2020-09-24   111.1500015258789   112.0999984741211              110.25   \n",
            "19  2020-09-25   113.6500015258789  114.30000305175781   110.8499984741211   \n",
            "\n",
            "                  Open Volume  \n",
            "0                 KC=F   KC=F  \n",
            "1                  NaN    NaN  \n",
            "2               132.25     22  \n",
            "3    130.9499969482422     41  \n",
            "4    131.3000030517578     11  \n",
            "5    131.1999969482422     45  \n",
            "6                129.0     17  \n",
            "7   131.14999389648438     15  \n",
            "8                132.5      5  \n",
            "9   133.35000610351562     31  \n",
            "10  128.14999389648438    118  \n",
            "11  122.19999694824219     54  \n",
            "12   123.8499984741211      8  \n",
            "13   119.9000015258789     24  \n",
            "14   118.3499984741211  20915  \n",
            "15               113.0  32467  \n",
            "16  112.55000305175781  22525  \n",
            "17  110.80000305175781  24425  \n",
            "18              110.75  17432  \n",
            "19              111.75  18236  \n",
            "====================================================================================================\n"
          ]
        }
      ]
    },
    {
      "cell_type": "code",
      "source": [
        "# Corrección de columnas\n",
        "print(\"Eliminando los primeros 2 registros, ya que no siguen el patrón:\\n\")\n",
        "df = df.drop(df.index[:2]).reset_index(drop=True)\n",
        "print(df.head(20))\n",
        "print(\"=\"*100)"
      ],
      "metadata": {
        "colab": {
          "base_uri": "https://localhost:8080/"
        },
        "id": "iRvWDbrEXSMR",
        "outputId": "39876806-b037-4af5-84e6-fb4cb00f4516"
      },
      "execution_count": null,
      "outputs": [
        {
          "output_type": "stream",
          "name": "stdout",
          "text": [
            "Eliminando los primeros 2 registros, ya que no siguen el patrón:\n",
            "\n",
            "         Price               Close                High                 Low  \\\n",
            "0   2020-09-01  131.89999389648438   132.3000030517578   130.8000030517578   \n",
            "1   2020-09-02               131.5   131.0500030517578               130.0   \n",
            "2   2020-09-03  131.60000610351562   131.3000030517578               131.0   \n",
            "3   2020-09-04   134.8000030517578               134.5   131.1999969482422   \n",
            "4   2020-09-08   132.8000030517578   129.5500030517578              128.25   \n",
            "5   2020-09-09  129.64999389648438  131.39999389648438  130.39999389648438   \n",
            "6   2020-09-10               132.5               132.5               132.5   \n",
            "7   2020-09-11  133.35000610351562  133.35000610351562  133.35000610351562   \n",
            "8   2020-09-14  123.55000305175781  128.64999389648438   124.1500015258789   \n",
            "9   2020-09-15  122.19999694824219  122.19999694824219  122.19999694824219   \n",
            "10  2020-09-16  120.55000305175781   123.8499984741211  120.69999694824219   \n",
            "11  2020-09-17   118.0999984741211   119.9000015258789  118.69999694824219   \n",
            "12  2020-09-18   113.5999984741211   118.3499984741211              115.75   \n",
            "13  2020-09-21               112.0  113.44999694824219  110.80000305175781   \n",
            "14  2020-09-22   110.6500015258789  114.80000305175781   110.3499984741211   \n",
            "15  2020-09-23               110.5   112.5999984741211  109.05000305175781   \n",
            "16  2020-09-24   111.1500015258789   112.0999984741211              110.25   \n",
            "17  2020-09-25   113.6500015258789  114.30000305175781   110.8499984741211   \n",
            "18  2020-09-28  109.55000305175781              114.75  108.69999694824219   \n",
            "19  2020-09-29  109.55000305175781   110.4000015258789  108.30000305175781   \n",
            "\n",
            "                  Open Volume  \n",
            "0               132.25     22  \n",
            "1    130.9499969482422     41  \n",
            "2    131.3000030517578     11  \n",
            "3    131.1999969482422     45  \n",
            "4                129.0     17  \n",
            "5   131.14999389648438     15  \n",
            "6                132.5      5  \n",
            "7   133.35000610351562     31  \n",
            "8   128.14999389648438    118  \n",
            "9   122.19999694824219     54  \n",
            "10   123.8499984741211      8  \n",
            "11   119.9000015258789     24  \n",
            "12   118.3499984741211  20915  \n",
            "13               113.0  32467  \n",
            "14  112.55000305175781  22525  \n",
            "15  110.80000305175781  24425  \n",
            "16              110.75  17432  \n",
            "17              111.75  18236  \n",
            "18  113.80000305175781  21447  \n",
            "19   109.0999984741211  21158  \n",
            "====================================================================================================\n"
          ]
        }
      ]
    },
    {
      "cell_type": "markdown",
      "source": [
        "#### Feature engineering: BIAS\n",
        "El cálculo del indicador técnico BIAS se justifica por su capacidad para reflejar la desviación porcentual del precio actual respecto a su media móvil, lo que permite identificar condiciones de sobrecompra o sobreventa en el mercado. Este tipo de información es valiosa para los modelos de predicción, ya que puede indicar posibles puntos de reversión o continuación de la tendencia."
      ],
      "metadata": {
        "id": "lz1mc9X4Wh52"
      }
    },
    {
      "cell_type": "code",
      "source": [
        "# Verificación los tipos de datos de cada columna\n",
        "print(df.dtypes)"
      ],
      "metadata": {
        "colab": {
          "base_uri": "https://localhost:8080/"
        },
        "id": "gnObnbqgYeTB",
        "outputId": "ff2b15e5-39f6-4eab-cd15-23a73b7e4629"
      },
      "execution_count": null,
      "outputs": [
        {
          "output_type": "stream",
          "name": "stdout",
          "text": [
            "Price     object\n",
            "Close     object\n",
            "High      object\n",
            "Low       object\n",
            "Open      object\n",
            "Volume    object\n",
            "dtype: object\n"
          ]
        }
      ]
    },
    {
      "cell_type": "code",
      "source": [
        "# Se muestra el nombre de las columnas\n",
        "print(\"Columnas: \", df.columns)\n",
        "print(\"=\"*100)\n",
        "\n",
        "# Cambio del nombre de la primer columna, que debería hacer referencia a las fechas (\"Date\")\n",
        "df = df.rename(columns={'Price': 'Date'})\n",
        "\n",
        "print(\"Cambio del nombre de la primer columna, que debería hacer referencia a las fechas (Date):\\n\")\n",
        "print(df.head(20))\n",
        "print(df.columns)\n",
        "print(\"=\"*100)"
      ],
      "metadata": {
        "colab": {
          "base_uri": "https://localhost:8080/"
        },
        "id": "sTF6B9mvXFzL",
        "outputId": "5cc25896-af29-48fa-db0f-298ee36f0cd3"
      },
      "execution_count": null,
      "outputs": [
        {
          "output_type": "stream",
          "name": "stdout",
          "text": [
            "Columnas:  Index(['Price', 'Close', 'High', 'Low', 'Open', 'Volume'], dtype='object')\n",
            "====================================================================================================\n",
            "Cambio del nombre de la primer columna, que debería hacer referencia a las fechas (Date):\n",
            "\n",
            "          Date               Close                High                 Low  \\\n",
            "0   2020-09-01  131.89999389648438   132.3000030517578   130.8000030517578   \n",
            "1   2020-09-02               131.5   131.0500030517578               130.0   \n",
            "2   2020-09-03  131.60000610351562   131.3000030517578               131.0   \n",
            "3   2020-09-04   134.8000030517578               134.5   131.1999969482422   \n",
            "4   2020-09-08   132.8000030517578   129.5500030517578              128.25   \n",
            "5   2020-09-09  129.64999389648438  131.39999389648438  130.39999389648438   \n",
            "6   2020-09-10               132.5               132.5               132.5   \n",
            "7   2020-09-11  133.35000610351562  133.35000610351562  133.35000610351562   \n",
            "8   2020-09-14  123.55000305175781  128.64999389648438   124.1500015258789   \n",
            "9   2020-09-15  122.19999694824219  122.19999694824219  122.19999694824219   \n",
            "10  2020-09-16  120.55000305175781   123.8499984741211  120.69999694824219   \n",
            "11  2020-09-17   118.0999984741211   119.9000015258789  118.69999694824219   \n",
            "12  2020-09-18   113.5999984741211   118.3499984741211              115.75   \n",
            "13  2020-09-21               112.0  113.44999694824219  110.80000305175781   \n",
            "14  2020-09-22   110.6500015258789  114.80000305175781   110.3499984741211   \n",
            "15  2020-09-23               110.5   112.5999984741211  109.05000305175781   \n",
            "16  2020-09-24   111.1500015258789   112.0999984741211              110.25   \n",
            "17  2020-09-25   113.6500015258789  114.30000305175781   110.8499984741211   \n",
            "18  2020-09-28  109.55000305175781              114.75  108.69999694824219   \n",
            "19  2020-09-29  109.55000305175781   110.4000015258789  108.30000305175781   \n",
            "\n",
            "                  Open Volume  \n",
            "0               132.25     22  \n",
            "1    130.9499969482422     41  \n",
            "2    131.3000030517578     11  \n",
            "3    131.1999969482422     45  \n",
            "4                129.0     17  \n",
            "5   131.14999389648438     15  \n",
            "6                132.5      5  \n",
            "7   133.35000610351562     31  \n",
            "8   128.14999389648438    118  \n",
            "9   122.19999694824219     54  \n",
            "10   123.8499984741211      8  \n",
            "11   119.9000015258789     24  \n",
            "12   118.3499984741211  20915  \n",
            "13               113.0  32467  \n",
            "14  112.55000305175781  22525  \n",
            "15  110.80000305175781  24425  \n",
            "16              110.75  17432  \n",
            "17              111.75  18236  \n",
            "18  113.80000305175781  21447  \n",
            "19   109.0999984741211  21158  \n",
            "Index(['Date', 'Close', 'High', 'Low', 'Open', 'Volume'], dtype='object')\n",
            "====================================================================================================\n"
          ]
        }
      ]
    },
    {
      "cell_type": "code",
      "source": [
        "# Como se observa, las columnas son textuales y deben ser procesadas como números\n",
        "# Método para un proceso de casting (coneversión de tipos)\n",
        "df = df.astype({\n",
        "    \"Close\": \"float\",\n",
        "    \"High\": \"float\",\n",
        "    \"Low\": \"float\",\n",
        "    \"Open\": \"float\",\n",
        "    \"Volume\": \"float\"\n",
        "})\n",
        "\n",
        "print(df.head())\n",
        "print(df.dtypes)"
      ],
      "metadata": {
        "colab": {
          "base_uri": "https://localhost:8080/"
        },
        "id": "Uzc_VI4hgb6v",
        "outputId": "ffee9cd0-70ec-41ec-f357-a5bcc3386057"
      },
      "execution_count": null,
      "outputs": [
        {
          "output_type": "stream",
          "name": "stdout",
          "text": [
            "         Date       Close        High         Low        Open  Volume\n",
            "0  2020-09-01  131.899994  132.300003  130.800003  132.250000    22.0\n",
            "1  2020-09-02  131.500000  131.050003  130.000000  130.949997    41.0\n",
            "2  2020-09-03  131.600006  131.300003  131.000000  131.300003    11.0\n",
            "3  2020-09-04  134.800003  134.500000  131.199997  131.199997    45.0\n",
            "4  2020-09-08  132.800003  129.550003  128.250000  129.000000    17.0\n",
            "Date       object\n",
            "Close     float64\n",
            "High      float64\n",
            "Low       float64\n",
            "Open      float64\n",
            "Volume    float64\n",
            "dtype: object\n"
          ]
        }
      ]
    },
    {
      "cell_type": "code",
      "source": [
        "# Conversión de tipos para fechas\n",
        "# Convertir 'Date' a datetime\n",
        "df['Date'] = pd.to_datetime(df['Date'])\n",
        "\n",
        "# Se ordena el DataFrame por fecha para mantener la cronología de la serie\n",
        "df = df.sort_values('Date')\n",
        "\n",
        "# Verificación los tipos de datos de cada columna\n",
        "print(df.dtypes)"
      ],
      "metadata": {
        "colab": {
          "base_uri": "https://localhost:8080/"
        },
        "id": "vxGmXkyAbWHr",
        "outputId": "cafefe15-ab2d-474d-f223-6f9b84263bb6"
      },
      "execution_count": null,
      "outputs": [
        {
          "output_type": "stream",
          "name": "stdout",
          "text": [
            "Date      datetime64[ns]\n",
            "Close            float64\n",
            "High             float64\n",
            "Low              float64\n",
            "Open             float64\n",
            "Volume           float64\n",
            "dtype: object\n"
          ]
        }
      ]
    },
    {
      "cell_type": "code",
      "source": [
        "# Calcular la media móvil simple de 5 días y guardarla en una nueva columna 'MA5'\n",
        "df['MA5'] = df['Close'].rolling(window=5).mean()\n",
        "\n",
        "# Verificar los primeros registros\n",
        "print(df[['Date', 'Close', 'MA5']].head(10))"
      ],
      "metadata": {
        "colab": {
          "base_uri": "https://localhost:8080/"
        },
        "id": "D1UghaqZbpon",
        "outputId": "20251a11-e481-4f42-d687-ac7f6bbfcc77"
      },
      "execution_count": null,
      "outputs": [
        {
          "output_type": "stream",
          "name": "stdout",
          "text": [
            "        Date       Close         MA5\n",
            "0 2020-09-01  131.899994         NaN\n",
            "1 2020-09-02  131.500000         NaN\n",
            "2 2020-09-03  131.600006         NaN\n",
            "3 2020-09-04  134.800003         NaN\n",
            "4 2020-09-08  132.800003  132.520001\n",
            "5 2020-09-09  129.649994  132.070001\n",
            "6 2020-09-10  132.500000  132.270001\n",
            "7 2020-09-11  133.350006  132.620001\n",
            "8 2020-09-14  123.550003  130.370001\n",
            "9 2020-09-15  122.199997  128.250000\n"
          ]
        }
      ]
    },
    {
      "cell_type": "code",
      "source": [
        "# Cálculo de la feature BIAS según la ecuación del paper (diferencia relativa)\n",
        "df['BIAS'] = (df['Close'] - df['MA5']) / df['MA5']\n",
        "\n",
        "# Verificar los primeros registros\n",
        "print(df[['Date', 'Close', 'MA5', 'BIAS']].head(10))"
      ],
      "metadata": {
        "colab": {
          "base_uri": "https://localhost:8080/"
        },
        "id": "Tg9OxKQ-chdD",
        "outputId": "7dd33b86-f802-4716-8168-c8c27c8fbb47"
      },
      "execution_count": null,
      "outputs": [
        {
          "output_type": "stream",
          "name": "stdout",
          "text": [
            "        Date       Close         MA5      BIAS\n",
            "0 2020-09-01  131.899994         NaN       NaN\n",
            "1 2020-09-02  131.500000         NaN       NaN\n",
            "2 2020-09-03  131.600006         NaN       NaN\n",
            "3 2020-09-04  134.800003         NaN       NaN\n",
            "4 2020-09-08  132.800003  132.520001  0.002113\n",
            "5 2020-09-09  129.649994  132.070001 -0.018324\n",
            "6 2020-09-10  132.500000  132.270001  0.001739\n",
            "7 2020-09-11  133.350006  132.620001  0.005504\n",
            "8 2020-09-14  123.550003  130.370001 -0.052313\n",
            "9 2020-09-15  122.199997  128.250000 -0.047174\n"
          ]
        }
      ]
    },
    {
      "cell_type": "code",
      "source": [
        "# Eliminar la columna MA5 ya que solo se usó para calcular BIAS\n",
        "df = df.drop(columns=['MA5'])\n",
        "\n",
        "# Contar los valores nulos por columna\n",
        "nulos = df.isnull().sum()\n",
        "\n",
        "# Mostrar el conteo de nulos\n",
        "print(nulos)\n"
      ],
      "metadata": {
        "colab": {
          "base_uri": "https://localhost:8080/"
        },
        "id": "gNngY17sfBjI",
        "outputId": "182e575a-128b-4c50-d4ce-793ebb133d41"
      },
      "execution_count": null,
      "outputs": [
        {
          "output_type": "stream",
          "name": "stdout",
          "text": [
            "Date      0\n",
            "Close     0\n",
            "High      0\n",
            "Low       0\n",
            "Open      0\n",
            "Volume    0\n",
            "BIAS      4\n",
            "dtype: int64\n"
          ]
        }
      ]
    },
    {
      "cell_type": "code",
      "source": [
        "# Dimensiones del dataframe\n",
        "print(\"Filas: \", df.shape[0])\n",
        "print(\"Columnas: \", df.shape[1])\n",
        "print(\"=\"*100)"
      ],
      "metadata": {
        "colab": {
          "base_uri": "https://localhost:8080/"
        },
        "id": "qpfGLe2-Xak-",
        "outputId": "ed3fc766-c456-46a6-d294-ffe612cc1f8c"
      },
      "execution_count": null,
      "outputs": [
        {
          "output_type": "stream",
          "name": "stdout",
          "text": [
            "Filas:  1258\n",
            "Columnas:  7\n",
            "====================================================================================================\n"
          ]
        }
      ]
    },
    {
      "cell_type": "code",
      "source": [
        "# Estadísticas descriptivas\n",
        "print(df.describe())\n",
        "print(\"=\"*100)"
      ],
      "metadata": {
        "colab": {
          "base_uri": "https://localhost:8080/"
        },
        "id": "Gyblm8zkXmZ8",
        "outputId": "60d8a9e7-71be-4b43-cdfd-a1363e01f416"
      },
      "execution_count": null,
      "outputs": [
        {
          "output_type": "stream",
          "name": "stdout",
          "text": [
            "                                Date        Close         High          Low  \\\n",
            "count                           1258  1258.000000  1258.000000  1258.000000   \n",
            "mean   2023-03-02 03:08:52.273449984   213.336725   216.006399   210.749086   \n",
            "min              2020-09-01 00:00:00   102.800003   103.949997   102.150002   \n",
            "25%              2021-11-30 06:00:00   161.850006   163.900005   160.199997   \n",
            "50%              2023-03-02 12:00:00   197.949997   199.849998   195.325005   \n",
            "75%              2024-05-30 18:00:00   239.050003   241.574997   236.674999   \n",
            "max              2025-08-29 00:00:00   438.899994   440.850006   424.049988   \n",
            "std                              NaN    72.026449    73.085246    71.050802   \n",
            "\n",
            "              Open        Volume         BIAS  \n",
            "count  1258.000000   1258.000000  1254.000000  \n",
            "mean    213.301948  11958.806836     0.001831  \n",
            "min     102.800003      0.000000    -0.091530  \n",
            "25%     162.174995     25.000000    -0.014357  \n",
            "50%     198.025002  12355.000000     0.000404  \n",
            "75%     238.474998  20295.750000     0.017595  \n",
            "max     435.399994  49900.000000     0.136777  \n",
            "std      71.982541  11408.649419     0.024912  \n",
            "====================================================================================================\n"
          ]
        }
      ]
    },
    {
      "cell_type": "code",
      "source": [
        "# Conteo de valores nulos en las columnas\n",
        "print(df.isnull().sum())\n",
        "\n",
        "print(\"=\"*100)\n",
        "if df.isnull().sum().sum() == 0:\n",
        "  print(\"No hay valores nulos en el dataset\")\n",
        "else:\n",
        "  print(\"Hay valores nulos en el dataset\")\n"
      ],
      "metadata": {
        "colab": {
          "base_uri": "https://localhost:8080/"
        },
        "id": "PSj9uhpOilAF",
        "outputId": "ded569b4-c90d-40bf-ad13-d21073283d21"
      },
      "execution_count": null,
      "outputs": [
        {
          "output_type": "stream",
          "name": "stdout",
          "text": [
            "Date      0\n",
            "Close     0\n",
            "High      0\n",
            "Low       0\n",
            "Open      0\n",
            "Volume    0\n",
            "BIAS      4\n",
            "dtype: int64\n",
            "====================================================================================================\n",
            "Hay valores nulos en el dataset\n"
          ]
        }
      ]
    },
    {
      "cell_type": "code",
      "source": [
        "# Se cuenta el total de registros antes de eliminar NaN en BIAS\n",
        "# Se identifica cuántos registros tienen NaN en BIAS\n",
        "# Se eliminan las filas con NaN para mantener la integridad de la feature\n",
        "# Se calcula el porcentaje de registros eliminados para justificar la acción\n",
        "# Se muestran los resultados para transparencia en el preprocesamiento\n",
        "\n",
        "# Contar registros antes de eliminar NaN\n",
        "total_registros = len(df)\n",
        "\n",
        "# Contar registros con NaN en BIAS\n",
        "nulos_bef = df['BIAS'].isnull().sum()\n",
        "\n",
        "# Eliminar filas con NaN en BIAS\n",
        "df = df.dropna(subset=['BIAS'])\n",
        "\n",
        "# Contar registros después de eliminar\n",
        "registros_desp = len(df)\n",
        "\n",
        "# Calcular porcentaje de datos eliminados\n",
        "porcentaje_eliminado = (nulos_bef / total_registros) * 100\n",
        "\n",
        "print(f\"Total registros: {total_registros}\")\n",
        "print(f\"Registros eliminados: {nulos_bef}\")\n",
        "print(f\"Porcentaje de datos eliminados: {porcentaje_eliminado:.2f}%\")\n",
        "\n",
        "# Mostrar algunos registros\n",
        "df.head(10)\n"
      ],
      "metadata": {
        "colab": {
          "base_uri": "https://localhost:8080/",
          "height": 415
        },
        "id": "3ED5PCs3gCiD",
        "outputId": "322ab014-5d83-418d-f7a1-6ea115e64fe8"
      },
      "execution_count": null,
      "outputs": [
        {
          "output_type": "stream",
          "name": "stdout",
          "text": [
            "Total registros: 1258\n",
            "Registros eliminados: 4\n",
            "Porcentaje de datos eliminados: 0.32%\n"
          ]
        },
        {
          "output_type": "execute_result",
          "data": {
            "text/plain": [
              "         Date       Close        High         Low        Open   Volume  \\\n",
              "4  2020-09-08  132.800003  129.550003  128.250000  129.000000     17.0   \n",
              "5  2020-09-09  129.649994  131.399994  130.399994  131.149994     15.0   \n",
              "6  2020-09-10  132.500000  132.500000  132.500000  132.500000      5.0   \n",
              "7  2020-09-11  133.350006  133.350006  133.350006  133.350006     31.0   \n",
              "8  2020-09-14  123.550003  128.649994  124.150002  128.149994    118.0   \n",
              "9  2020-09-15  122.199997  122.199997  122.199997  122.199997     54.0   \n",
              "10 2020-09-16  120.550003  123.849998  120.699997  123.849998      8.0   \n",
              "11 2020-09-17  118.099998  119.900002  118.699997  119.900002     24.0   \n",
              "12 2020-09-18  113.599998  118.349998  115.750000  118.349998  20915.0   \n",
              "13 2020-09-21  112.000000  113.449997  110.800003  113.000000  32467.0   \n",
              "\n",
              "        BIAS  \n",
              "4   0.002113  \n",
              "5  -0.018324  \n",
              "6   0.001739  \n",
              "7   0.005504  \n",
              "8  -0.052313  \n",
              "9  -0.047174  \n",
              "10 -0.046508  \n",
              "11 -0.044112  \n",
              "12 -0.050167  \n",
              "13 -0.045102  "
            ],
            "text/html": [
              "\n",
              "  <div id=\"df-00e993f7-01d7-4503-9cc7-19629fedf383\" class=\"colab-df-container\">\n",
              "    <div>\n",
              "<style scoped>\n",
              "    .dataframe tbody tr th:only-of-type {\n",
              "        vertical-align: middle;\n",
              "    }\n",
              "\n",
              "    .dataframe tbody tr th {\n",
              "        vertical-align: top;\n",
              "    }\n",
              "\n",
              "    .dataframe thead th {\n",
              "        text-align: right;\n",
              "    }\n",
              "</style>\n",
              "<table border=\"1\" class=\"dataframe\">\n",
              "  <thead>\n",
              "    <tr style=\"text-align: right;\">\n",
              "      <th></th>\n",
              "      <th>Date</th>\n",
              "      <th>Close</th>\n",
              "      <th>High</th>\n",
              "      <th>Low</th>\n",
              "      <th>Open</th>\n",
              "      <th>Volume</th>\n",
              "      <th>BIAS</th>\n",
              "    </tr>\n",
              "  </thead>\n",
              "  <tbody>\n",
              "    <tr>\n",
              "      <th>4</th>\n",
              "      <td>2020-09-08</td>\n",
              "      <td>132.800003</td>\n",
              "      <td>129.550003</td>\n",
              "      <td>128.250000</td>\n",
              "      <td>129.000000</td>\n",
              "      <td>17.0</td>\n",
              "      <td>0.002113</td>\n",
              "    </tr>\n",
              "    <tr>\n",
              "      <th>5</th>\n",
              "      <td>2020-09-09</td>\n",
              "      <td>129.649994</td>\n",
              "      <td>131.399994</td>\n",
              "      <td>130.399994</td>\n",
              "      <td>131.149994</td>\n",
              "      <td>15.0</td>\n",
              "      <td>-0.018324</td>\n",
              "    </tr>\n",
              "    <tr>\n",
              "      <th>6</th>\n",
              "      <td>2020-09-10</td>\n",
              "      <td>132.500000</td>\n",
              "      <td>132.500000</td>\n",
              "      <td>132.500000</td>\n",
              "      <td>132.500000</td>\n",
              "      <td>5.0</td>\n",
              "      <td>0.001739</td>\n",
              "    </tr>\n",
              "    <tr>\n",
              "      <th>7</th>\n",
              "      <td>2020-09-11</td>\n",
              "      <td>133.350006</td>\n",
              "      <td>133.350006</td>\n",
              "      <td>133.350006</td>\n",
              "      <td>133.350006</td>\n",
              "      <td>31.0</td>\n",
              "      <td>0.005504</td>\n",
              "    </tr>\n",
              "    <tr>\n",
              "      <th>8</th>\n",
              "      <td>2020-09-14</td>\n",
              "      <td>123.550003</td>\n",
              "      <td>128.649994</td>\n",
              "      <td>124.150002</td>\n",
              "      <td>128.149994</td>\n",
              "      <td>118.0</td>\n",
              "      <td>-0.052313</td>\n",
              "    </tr>\n",
              "    <tr>\n",
              "      <th>9</th>\n",
              "      <td>2020-09-15</td>\n",
              "      <td>122.199997</td>\n",
              "      <td>122.199997</td>\n",
              "      <td>122.199997</td>\n",
              "      <td>122.199997</td>\n",
              "      <td>54.0</td>\n",
              "      <td>-0.047174</td>\n",
              "    </tr>\n",
              "    <tr>\n",
              "      <th>10</th>\n",
              "      <td>2020-09-16</td>\n",
              "      <td>120.550003</td>\n",
              "      <td>123.849998</td>\n",
              "      <td>120.699997</td>\n",
              "      <td>123.849998</td>\n",
              "      <td>8.0</td>\n",
              "      <td>-0.046508</td>\n",
              "    </tr>\n",
              "    <tr>\n",
              "      <th>11</th>\n",
              "      <td>2020-09-17</td>\n",
              "      <td>118.099998</td>\n",
              "      <td>119.900002</td>\n",
              "      <td>118.699997</td>\n",
              "      <td>119.900002</td>\n",
              "      <td>24.0</td>\n",
              "      <td>-0.044112</td>\n",
              "    </tr>\n",
              "    <tr>\n",
              "      <th>12</th>\n",
              "      <td>2020-09-18</td>\n",
              "      <td>113.599998</td>\n",
              "      <td>118.349998</td>\n",
              "      <td>115.750000</td>\n",
              "      <td>118.349998</td>\n",
              "      <td>20915.0</td>\n",
              "      <td>-0.050167</td>\n",
              "    </tr>\n",
              "    <tr>\n",
              "      <th>13</th>\n",
              "      <td>2020-09-21</td>\n",
              "      <td>112.000000</td>\n",
              "      <td>113.449997</td>\n",
              "      <td>110.800003</td>\n",
              "      <td>113.000000</td>\n",
              "      <td>32467.0</td>\n",
              "      <td>-0.045102</td>\n",
              "    </tr>\n",
              "  </tbody>\n",
              "</table>\n",
              "</div>\n",
              "    <div class=\"colab-df-buttons\">\n",
              "\n",
              "  <div class=\"colab-df-container\">\n",
              "    <button class=\"colab-df-convert\" onclick=\"convertToInteractive('df-00e993f7-01d7-4503-9cc7-19629fedf383')\"\n",
              "            title=\"Convert this dataframe to an interactive table.\"\n",
              "            style=\"display:none;\">\n",
              "\n",
              "  <svg xmlns=\"http://www.w3.org/2000/svg\" height=\"24px\" viewBox=\"0 -960 960 960\">\n",
              "    <path d=\"M120-120v-720h720v720H120Zm60-500h600v-160H180v160Zm220 220h160v-160H400v160Zm0 220h160v-160H400v160ZM180-400h160v-160H180v160Zm440 0h160v-160H620v160ZM180-180h160v-160H180v160Zm440 0h160v-160H620v160Z\"/>\n",
              "  </svg>\n",
              "    </button>\n",
              "\n",
              "  <style>\n",
              "    .colab-df-container {\n",
              "      display:flex;\n",
              "      gap: 12px;\n",
              "    }\n",
              "\n",
              "    .colab-df-convert {\n",
              "      background-color: #E8F0FE;\n",
              "      border: none;\n",
              "      border-radius: 50%;\n",
              "      cursor: pointer;\n",
              "      display: none;\n",
              "      fill: #1967D2;\n",
              "      height: 32px;\n",
              "      padding: 0 0 0 0;\n",
              "      width: 32px;\n",
              "    }\n",
              "\n",
              "    .colab-df-convert:hover {\n",
              "      background-color: #E2EBFA;\n",
              "      box-shadow: 0px 1px 2px rgba(60, 64, 67, 0.3), 0px 1px 3px 1px rgba(60, 64, 67, 0.15);\n",
              "      fill: #174EA6;\n",
              "    }\n",
              "\n",
              "    .colab-df-buttons div {\n",
              "      margin-bottom: 4px;\n",
              "    }\n",
              "\n",
              "    [theme=dark] .colab-df-convert {\n",
              "      background-color: #3B4455;\n",
              "      fill: #D2E3FC;\n",
              "    }\n",
              "\n",
              "    [theme=dark] .colab-df-convert:hover {\n",
              "      background-color: #434B5C;\n",
              "      box-shadow: 0px 1px 3px 1px rgba(0, 0, 0, 0.15);\n",
              "      filter: drop-shadow(0px 1px 2px rgba(0, 0, 0, 0.3));\n",
              "      fill: #FFFFFF;\n",
              "    }\n",
              "  </style>\n",
              "\n",
              "    <script>\n",
              "      const buttonEl =\n",
              "        document.querySelector('#df-00e993f7-01d7-4503-9cc7-19629fedf383 button.colab-df-convert');\n",
              "      buttonEl.style.display =\n",
              "        google.colab.kernel.accessAllowed ? 'block' : 'none';\n",
              "\n",
              "      async function convertToInteractive(key) {\n",
              "        const element = document.querySelector('#df-00e993f7-01d7-4503-9cc7-19629fedf383');\n",
              "        const dataTable =\n",
              "          await google.colab.kernel.invokeFunction('convertToInteractive',\n",
              "                                                    [key], {});\n",
              "        if (!dataTable) return;\n",
              "\n",
              "        const docLinkHtml = 'Like what you see? Visit the ' +\n",
              "          '<a target=\"_blank\" href=https://colab.research.google.com/notebooks/data_table.ipynb>data table notebook</a>'\n",
              "          + ' to learn more about interactive tables.';\n",
              "        element.innerHTML = '';\n",
              "        dataTable['output_type'] = 'display_data';\n",
              "        await google.colab.output.renderOutput(dataTable, element);\n",
              "        const docLink = document.createElement('div');\n",
              "        docLink.innerHTML = docLinkHtml;\n",
              "        element.appendChild(docLink);\n",
              "      }\n",
              "    </script>\n",
              "  </div>\n",
              "\n",
              "\n",
              "    <div id=\"df-50d79fbc-f2c1-4bc4-9074-79acdc499520\">\n",
              "      <button class=\"colab-df-quickchart\" onclick=\"quickchart('df-50d79fbc-f2c1-4bc4-9074-79acdc499520')\"\n",
              "                title=\"Suggest charts\"\n",
              "                style=\"display:none;\">\n",
              "\n",
              "<svg xmlns=\"http://www.w3.org/2000/svg\" height=\"24px\"viewBox=\"0 0 24 24\"\n",
              "     width=\"24px\">\n",
              "    <g>\n",
              "        <path d=\"M19 3H5c-1.1 0-2 .9-2 2v14c0 1.1.9 2 2 2h14c1.1 0 2-.9 2-2V5c0-1.1-.9-2-2-2zM9 17H7v-7h2v7zm4 0h-2V7h2v10zm4 0h-2v-4h2v4z\"/>\n",
              "    </g>\n",
              "</svg>\n",
              "      </button>\n",
              "\n",
              "<style>\n",
              "  .colab-df-quickchart {\n",
              "      --bg-color: #E8F0FE;\n",
              "      --fill-color: #1967D2;\n",
              "      --hover-bg-color: #E2EBFA;\n",
              "      --hover-fill-color: #174EA6;\n",
              "      --disabled-fill-color: #AAA;\n",
              "      --disabled-bg-color: #DDD;\n",
              "  }\n",
              "\n",
              "  [theme=dark] .colab-df-quickchart {\n",
              "      --bg-color: #3B4455;\n",
              "      --fill-color: #D2E3FC;\n",
              "      --hover-bg-color: #434B5C;\n",
              "      --hover-fill-color: #FFFFFF;\n",
              "      --disabled-bg-color: #3B4455;\n",
              "      --disabled-fill-color: #666;\n",
              "  }\n",
              "\n",
              "  .colab-df-quickchart {\n",
              "    background-color: var(--bg-color);\n",
              "    border: none;\n",
              "    border-radius: 50%;\n",
              "    cursor: pointer;\n",
              "    display: none;\n",
              "    fill: var(--fill-color);\n",
              "    height: 32px;\n",
              "    padding: 0;\n",
              "    width: 32px;\n",
              "  }\n",
              "\n",
              "  .colab-df-quickchart:hover {\n",
              "    background-color: var(--hover-bg-color);\n",
              "    box-shadow: 0 1px 2px rgba(60, 64, 67, 0.3), 0 1px 3px 1px rgba(60, 64, 67, 0.15);\n",
              "    fill: var(--button-hover-fill-color);\n",
              "  }\n",
              "\n",
              "  .colab-df-quickchart-complete:disabled,\n",
              "  .colab-df-quickchart-complete:disabled:hover {\n",
              "    background-color: var(--disabled-bg-color);\n",
              "    fill: var(--disabled-fill-color);\n",
              "    box-shadow: none;\n",
              "  }\n",
              "\n",
              "  .colab-df-spinner {\n",
              "    border: 2px solid var(--fill-color);\n",
              "    border-color: transparent;\n",
              "    border-bottom-color: var(--fill-color);\n",
              "    animation:\n",
              "      spin 1s steps(1) infinite;\n",
              "  }\n",
              "\n",
              "  @keyframes spin {\n",
              "    0% {\n",
              "      border-color: transparent;\n",
              "      border-bottom-color: var(--fill-color);\n",
              "      border-left-color: var(--fill-color);\n",
              "    }\n",
              "    20% {\n",
              "      border-color: transparent;\n",
              "      border-left-color: var(--fill-color);\n",
              "      border-top-color: var(--fill-color);\n",
              "    }\n",
              "    30% {\n",
              "      border-color: transparent;\n",
              "      border-left-color: var(--fill-color);\n",
              "      border-top-color: var(--fill-color);\n",
              "      border-right-color: var(--fill-color);\n",
              "    }\n",
              "    40% {\n",
              "      border-color: transparent;\n",
              "      border-right-color: var(--fill-color);\n",
              "      border-top-color: var(--fill-color);\n",
              "    }\n",
              "    60% {\n",
              "      border-color: transparent;\n",
              "      border-right-color: var(--fill-color);\n",
              "    }\n",
              "    80% {\n",
              "      border-color: transparent;\n",
              "      border-right-color: var(--fill-color);\n",
              "      border-bottom-color: var(--fill-color);\n",
              "    }\n",
              "    90% {\n",
              "      border-color: transparent;\n",
              "      border-bottom-color: var(--fill-color);\n",
              "    }\n",
              "  }\n",
              "</style>\n",
              "\n",
              "      <script>\n",
              "        async function quickchart(key) {\n",
              "          const quickchartButtonEl =\n",
              "            document.querySelector('#' + key + ' button');\n",
              "          quickchartButtonEl.disabled = true;  // To prevent multiple clicks.\n",
              "          quickchartButtonEl.classList.add('colab-df-spinner');\n",
              "          try {\n",
              "            const charts = await google.colab.kernel.invokeFunction(\n",
              "                'suggestCharts', [key], {});\n",
              "          } catch (error) {\n",
              "            console.error('Error during call to suggestCharts:', error);\n",
              "          }\n",
              "          quickchartButtonEl.classList.remove('colab-df-spinner');\n",
              "          quickchartButtonEl.classList.add('colab-df-quickchart-complete');\n",
              "        }\n",
              "        (() => {\n",
              "          let quickchartButtonEl =\n",
              "            document.querySelector('#df-50d79fbc-f2c1-4bc4-9074-79acdc499520 button');\n",
              "          quickchartButtonEl.style.display =\n",
              "            google.colab.kernel.accessAllowed ? 'block' : 'none';\n",
              "        })();\n",
              "      </script>\n",
              "    </div>\n",
              "\n",
              "    </div>\n",
              "  </div>\n"
            ],
            "application/vnd.google.colaboratory.intrinsic+json": {
              "type": "dataframe",
              "variable_name": "df",
              "summary": "{\n  \"name\": \"df\",\n  \"rows\": 1254,\n  \"fields\": [\n    {\n      \"column\": \"Date\",\n      \"properties\": {\n        \"dtype\": \"date\",\n        \"min\": \"2020-09-08 00:00:00\",\n        \"max\": \"2025-08-29 00:00:00\",\n        \"num_unique_values\": 1254,\n        \"samples\": [\n          \"2025-08-29 00:00:00\",\n          \"2021-02-02 00:00:00\",\n          \"2020-11-18 00:00:00\"\n        ],\n        \"semantic_type\": \"\",\n        \"description\": \"\"\n      }\n    },\n    {\n      \"column\": \"Close\",\n      \"properties\": {\n        \"dtype\": \"number\",\n        \"std\": 71.99591451560642,\n        \"min\": 102.80000305175781,\n        \"max\": 438.8999938964844,\n        \"num_unique_values\": 1057,\n        \"samples\": [\n          199.85000610351562,\n          263.6499938964844,\n          258.0\n        ],\n        \"semantic_type\": \"\",\n        \"description\": \"\"\n      }\n    },\n    {\n      \"column\": \"High\",\n      \"properties\": {\n        \"dtype\": \"number\",\n        \"std\": 73.0482920118125,\n        \"min\": 103.94999694824219,\n        \"max\": 440.8500061035156,\n        \"num_unique_values\": 1076,\n        \"samples\": [\n          308.8999938964844,\n          192.89999389648438,\n          198.64999389648438\n        ],\n        \"semantic_type\": \"\",\n        \"description\": \"\"\n      }\n    },\n    {\n      \"column\": \"Low\",\n      \"properties\": {\n        \"dtype\": \"number\",\n        \"std\": 71.01996730833376,\n        \"min\": 102.1500015258789,\n        \"max\": 424.04998779296875,\n        \"num_unique_values\": 1046,\n        \"samples\": [\n          219.0500030517578,\n          233.75,\n          160.0500030517578\n        ],\n        \"semantic_type\": \"\",\n        \"description\": \"\"\n      }\n    },\n    {\n      \"column\": \"Open\",\n      \"properties\": {\n        \"dtype\": \"number\",\n        \"std\": 71.94829626253036,\n        \"min\": 102.80000305175781,\n        \"max\": 435.3999938964844,\n        \"num_unique_values\": 1044,\n        \"samples\": [\n          398.5,\n          233.25,\n          189.89999389648438\n        ],\n        \"semantic_type\": \"\",\n        \"description\": \"\"\n      }\n    },\n    {\n      \"column\": \"Volume\",\n      \"properties\": {\n        \"dtype\": \"number\",\n        \"std\": 11406.886541489654,\n        \"min\": 0.0,\n        \"max\": 49900.0,\n        \"num_unique_values\": 876,\n        \"samples\": [\n          19367.0,\n          45071.0,\n          10983.0\n        ],\n        \"semantic_type\": \"\",\n        \"description\": \"\"\n      }\n    },\n    {\n      \"column\": \"BIAS\",\n      \"properties\": {\n        \"dtype\": \"number\",\n        \"std\": 0.02491179169411083,\n        \"min\": -0.09153040062419443,\n        \"max\": 0.13677720789934308,\n        \"num_unique_values\": 1254,\n        \"samples\": [\n          0.016313274288394863,\n          -0.006761090372634962,\n          0.04869078413232386\n        ],\n        \"semantic_type\": \"\",\n        \"description\": \"\"\n      }\n    }\n  ]\n}"
            }
          },
          "metadata": {},
          "execution_count": 218
        }
      ]
    },
    {
      "cell_type": "code",
      "source": [
        "# Se seleccionan únicamente las columnas de entrada (features) para aplicar rescaling\n",
        "# Se crea un objeto MinMaxScaler para escalar las features al rango [0,1]\n",
        "# Se ajusta el scaler a los datos y se transforma cada columna seleccionada\n",
        "# Se muestran los primeros registros para verificar que el rescaling se aplicó correctamente\n",
        "\n",
        "# Seleccionar solo las columnas que serán features\n",
        "features_a_escalar = ['High', 'Low', 'Open', 'Volume', 'BIAS', 'Close']\n",
        "\n",
        "# Crear el scaler\n",
        "scaler = MinMaxScaler()\n",
        "\n",
        "# Ajustar y transformar las features\n",
        "df[features_a_escalar] = scaler.fit_transform(df[features_a_escalar])\n",
        "\n",
        "# Verificar los primeros registros\n",
        "print(df.head())"
      ],
      "metadata": {
        "colab": {
          "base_uri": "https://localhost:8080/"
        },
        "id": "dI3hJ_sIhGnO",
        "outputId": "62f71e66-453a-4d89-ea89-00e032d530c7"
      },
      "execution_count": null,
      "outputs": [
        {
          "output_type": "stream",
          "name": "stdout",
          "text": [
            "        Date     Close      High       Low      Open    Volume      BIAS\n",
            "4 2020-09-08  0.089259  0.075987  0.081081  0.078773  0.000341  0.410163\n",
            "5 2020-09-09  0.079887  0.081478  0.087760  0.085237  0.000301  0.320650\n",
            "6 2020-09-10  0.088367  0.084743  0.094284  0.089296  0.000100  0.408525\n",
            "7 2020-09-11  0.090896  0.087266  0.096925  0.091852  0.000621  0.425018\n",
            "8 2020-09-14  0.061738  0.073316  0.068344  0.076218  0.002365  0.171776\n"
          ]
        }
      ]
    },
    {
      "cell_type": "code",
      "source": [
        "# Se calculan estadísticas descriptivas para entender la distribución de cada feature\n",
        "# Se grafican histogramas de las features escaladas para visualizar su dispersión y forma\n",
        "# Esto permite detectar posibles sesgos, asimetrías o valores atípicos\n",
        "\n",
        "# Seleccionar solo las features\n",
        "features = ['High', 'Low', 'Open', 'Volume', 'BIAS']\n",
        "\n",
        "# Graficar histogramas para cada feature\n",
        "df[features].hist(bins=20, figsize=(12, 8))\n",
        "plt.suptitle(\"Distribución de features después de rescaling\", fontsize=16)\n",
        "plt.show()\n"
      ],
      "metadata": {
        "colab": {
          "base_uri": "https://localhost:8080/",
          "height": 756
        },
        "id": "lZq5rR99jYTu",
        "outputId": "2afe8f7b-b935-4b28-9ddf-5ab8ce6880eb"
      },
      "execution_count": null,
      "outputs": [
        {
          "output_type": "display_data",
          "data": {
            "text/plain": [
              "<Figure size 1200x800 with 6 Axes>"
            ],
            "image/png": "[encoded data removed]"
          },
          "metadata": {}
        }
      ]
    },
    {
      "cell_type": "code",
      "source": [
        "# Guardar el dataset limpio y escalado en un archivo CSV\n",
        "df.to_csv(\"cafe_datos_clean.csv\", index=False)\n",
        "print(\"Dataset guardado correctamente como cafe_datos_clean.csv\")"
      ],
      "metadata": {
        "colab": {
          "base_uri": "https://localhost:8080/"
        },
        "id": "nlHcl_3GrXwA",
        "outputId": "d216084c-782c-4499-d05e-f7ebf15363c0"
      },
      "execution_count": null,
      "outputs": [
        {
          "output_type": "stream",
          "name": "stdout",
          "text": [
            "Dataset guardado correctamente como cafe_datos_clean.csv\n"
          ]
        }
      ]
    },
    {
      "cell_type": "markdown",
      "source": [
        "### Random Forest"
      ],
      "metadata": {
        "id": "zpQGX-7BlGNP"
      }
    },
    {
      "cell_type": "markdown",
      "source": [
        "#### Modelización"
      ],
      "metadata": {
        "id": "1sxkypgFtEBZ"
      }
    },
    {
      "cell_type": "code",
      "source": [
        "# Se define X como las features excluyendo el target 'Close'\n",
        "# Se define y como la columna target 'Close'\n",
        "# Se calcula el tamaño de entrenamiento como el 80% de los registros\n",
        "# Se separan los conjuntos de entrenamiento y prueba de forma secuencial para mantener la cronología\n",
        "# Se muestran los tamaños de los conjuntos para verificar la correcta partición\n",
        "# Para preservar la cronología, no se necesita usar Date como feature; basta con que esté ordenada y sirva como referencia.\n",
        "\n",
        "# Definir features y target\n",
        "X = df.drop(columns=[\"Date\", \"Close\"])  # 'Close' es el target\n",
        "y = df[\"Close\"]\n",
        "\n",
        "# Definir el tamaño de entrenamiento (por ejemplo, 80%)\n",
        "train_size = int(len(df) * 0.8)\n",
        "\n",
        "# Separar secuencialmente los datos\n",
        "x_train = X.iloc[:train_size]\n",
        "x_test  = X.iloc[train_size:]\n",
        "y_train = y.iloc[:train_size]\n",
        "y_test  = y.iloc[train_size:]\n",
        "\n",
        "# Verificar tamaños\n",
        "print(f\"x_train: {x_train.shape}, x_test: {x_test.shape}\")\n",
        "print(f\"y_train: {y_train.shape}, y_test: {y_test.shape}\")\n"
      ],
      "metadata": {
        "colab": {
          "base_uri": "https://localhost:8080/"
        },
        "id": "4GkXu1hllhjH",
        "outputId": "6053526b-4e25-4e1d-9118-55f60669b78f"
      },
      "execution_count": null,
      "outputs": [
        {
          "output_type": "stream",
          "name": "stdout",
          "text": [
            "x_train: (1003, 5), x_test: (251, 5)\n",
            "y_train: (1003,), y_test: (251,)\n"
          ]
        }
      ]
    },
    {
      "cell_type": "markdown",
      "source": [
        "##### **Justificación de selección de hiperparámetros**\n",
        "\n",
        "Se probaron los hiperparámetros n_estimators y max_depth en Random Forest por las siguientes razones:\n",
        "\n",
        "n_estimators (número de árboles): Controla la cantidad de árboles que se ensamblan en el modelo. Aumentar este valor suele mejorar la estabilidad y precisión de las predicciones al promediar múltiples árboles, reduciendo la varianza, aunque a costa de un mayor tiempo de entrenamiento.\n",
        "\n",
        "max_depth (profundidad máxima de los árboles): Limita cuán profundos pueden crecer los árboles individuales. Una profundidad mayor permite capturar relaciones complejas y patrones no lineales en los datos, pero también aumenta el riesgo de overfitting. Profundidades menores favorecen la generalización, evitando que el modelo se ajuste demasiado al ruido."
      ],
      "metadata": {
        "id": "A1T7gW0TFzcs"
      }
    },
    {
      "cell_type": "code",
      "source": [
        "# Diferentes configuraciones de hiperparámetros\n",
        "# n_estimators define la cantidad de árboles que se ensamblan\n",
        "# max_depth indica la máxima profundidad que cada árbol alcanza durante el entrenamiento\n",
        "\n",
        "import time\n",
        "from sklearn.ensemble import RandomForestRegressor\n",
        "from sklearn.model_selection import TimeSeriesSplit, cross_validate\n",
        "\n",
        "# Definir lista de valores para n_estimators y max_depth\n",
        "n_estimators_list = [10, 20, 50, 100, 200]\n",
        "max_depth_list = [3, 5, 10, 15, 20]  # Diferentes profundidades de los árboles\n",
        "\n",
        "# Configurar validación cruzada para series temporales\n",
        "tscv = TimeSeriesSplit(n_splits=5)\n",
        "\n",
        "# Métricas a evaluar\n",
        "scoring = ['r2', 'neg_mean_squared_error', 'neg_mean_absolute_error']\n",
        "\n",
        "# Variables para almacenar resultados\n",
        "mejores_resultados = {}\n",
        "mejor_r2 = -np.inf\n",
        "mejor_config_rf = None"
      ],
      "metadata": {
        "id": "NSRhxNMJw-Fd"
      },
      "execution_count": null,
      "outputs": []
    },
    {
      "cell_type": "markdown",
      "source": [
        "#### Entrenamiento y evaluación del modelo"
      ],
      "metadata": {
        "id": "cGwHajRf3Wx-"
      }
    },
    {
      "cell_type": "code",
      "source": [
        "# Iterar sobre todas las combinaciones de hiperparámetros\n",
        "for n in n_estimators_list:\n",
        "    for depth in max_depth_list:\n",
        "        print(f\"\\nEvaluando RandomForest con n_estimators={n} y max_depth={depth}\")\n",
        "\n",
        "        # Inicializar el modelo RandomForestRegressor con la combinación actual\n",
        "        rf = RandomForestRegressor(n_estimators=n, max_depth=depth, random_state=42)\n",
        "\n",
        "        # Medir tiempo de inicio\n",
        "        start_time = time.time()\n",
        "\n",
        "        # Validación cruzada con TimeSeriesSplit y métricas de regresión\n",
        "        resultados = cross_validate(\n",
        "            rf, X, y,\n",
        "            scoring=scoring,\n",
        "            cv=tscv\n",
        "        )\n",
        "\n",
        "        # Medir tiempo de finalización\n",
        "        tiempo_total = time.time() - start_time\n",
        "\n",
        "        # Calcular métricas promedio y corregir signos negativos\n",
        "        r2_mean = resultados['test_r2'].mean()\n",
        "        mse_mean = -resultados['test_neg_mean_squared_error'].mean()\n",
        "        mae_mean = -resultados['test_neg_mean_absolute_error'].mean()\n",
        "\n",
        "        # Mostrar métricas y tiempo de ejecución\n",
        "        print(f\"R2  : {r2_mean:.3f}\")\n",
        "        print(f\"MSE : {mse_mean:.3f}\")\n",
        "        print(f\"MAE : {mae_mean:.3f}\")\n",
        "        print(f\"Tiempo de ejecución: {tiempo_total:.2f} segundos\")\n",
        "\n",
        "        # Guardar resultados de esta configuración\n",
        "        mejores_resultados[(n, depth)] = {\n",
        "            \"r2\": r2_mean,\n",
        "            \"mse\": mse_mean,\n",
        "            \"mae\": mae_mean,\n",
        "            \"tiempo\": tiempo_total\n",
        "        }\n",
        "\n",
        "        # Actualizar la mejor configuración basada en R2\n",
        "        if r2_mean > mejor_r2:\n",
        "            mejor_r2 = r2_mean\n",
        "            mejor_config_rf = {\n",
        "                \"n_estimators\": n,\n",
        "                \"max_depth\": depth,\n",
        "                \"r2\": r2_mean,\n",
        "                \"mse\": mse_mean,\n",
        "                \"mae\": mae_mean,\n",
        "                \"tiempo\": tiempo_total\n",
        "            }\n",
        "\n",
        "# Mostrar la mejor configuración encontrada\n",
        "print(\"\\nMejor configuración Random Forest:\")\n",
        "print(mejor_config_rf)\n"
      ],
      "metadata": {
        "colab": {
          "base_uri": "https://localhost:8080/"
        },
        "id": "aSOHLQpRyBcs",
        "outputId": "8667b2bd-de05-4ed6-acd0-9dcaf7550896"
      },
      "execution_count": null,
      "outputs": [
        {
          "output_type": "stream",
          "name": "stdout",
          "text": [
            "\n",
            "Evaluando RandomForest con n_estimators=10 y max_depth=3\n",
            "R2  : -1.375\n",
            "MSE : 0.027\n",
            "MAE : 0.099\n",
            "Tiempo de ejecución: 0.23 segundos\n",
            "\n",
            "Evaluando RandomForest con n_estimators=10 y max_depth=5\n",
            "R2  : -0.979\n",
            "MSE : 0.021\n",
            "MAE : 0.083\n",
            "Tiempo de ejecución: 0.28 segundos\n",
            "\n",
            "Evaluando RandomForest con n_estimators=10 y max_depth=10\n",
            "R2  : -0.939\n",
            "MSE : 0.020\n",
            "MAE : 0.081\n",
            "Tiempo de ejecución: 0.52 segundos\n",
            "\n",
            "Evaluando RandomForest con n_estimators=10 y max_depth=15\n",
            "R2  : -0.909\n",
            "MSE : 0.019\n",
            "MAE : 0.080\n",
            "Tiempo de ejecución: 0.40 segundos\n",
            "\n",
            "Evaluando RandomForest con n_estimators=10 y max_depth=20\n",
            "R2  : -0.903\n",
            "MSE : 0.019\n",
            "MAE : 0.080\n",
            "Tiempo de ejecución: 0.26 segundos\n",
            "\n",
            "Evaluando RandomForest con n_estimators=20 y max_depth=3\n",
            "R2  : -1.382\n",
            "MSE : 0.027\n",
            "MAE : 0.099\n",
            "Tiempo de ejecución: 0.27 segundos\n",
            "\n",
            "Evaluando RandomForest con n_estimators=20 y max_depth=5\n",
            "R2  : -0.983\n",
            "MSE : 0.021\n",
            "MAE : 0.083\n",
            "Tiempo de ejecución: 0.35 segundos\n",
            "\n",
            "Evaluando RandomForest con n_estimators=20 y max_depth=10\n",
            "R2  : -0.928\n",
            "MSE : 0.020\n",
            "MAE : 0.081\n",
            "Tiempo de ejecución: 0.45 segundos\n",
            "\n",
            "Evaluando RandomForest con n_estimators=20 y max_depth=15\n",
            "R2  : -0.918\n",
            "MSE : 0.020\n",
            "MAE : 0.080\n",
            "Tiempo de ejecución: 0.50 segundos\n",
            "\n",
            "Evaluando RandomForest con n_estimators=20 y max_depth=20\n",
            "R2  : -0.912\n",
            "MSE : 0.019\n",
            "MAE : 0.080\n",
            "Tiempo de ejecución: 0.48 segundos\n",
            "\n",
            "Evaluando RandomForest con n_estimators=50 y max_depth=3\n",
            "R2  : -1.388\n",
            "MSE : 0.027\n",
            "MAE : 0.099\n",
            "Tiempo de ejecución: 0.62 segundos\n",
            "\n",
            "Evaluando RandomForest con n_estimators=50 y max_depth=5\n",
            "R2  : -0.984\n",
            "MSE : 0.021\n",
            "MAE : 0.083\n",
            "Tiempo de ejecución: 0.78 segundos\n",
            "\n",
            "Evaluando RandomForest con n_estimators=50 y max_depth=10\n",
            "R2  : -0.927\n",
            "MSE : 0.020\n",
            "MAE : 0.081\n",
            "Tiempo de ejecución: 1.07 segundos\n",
            "\n",
            "Evaluando RandomForest con n_estimators=50 y max_depth=15\n",
            "R2  : -0.920\n",
            "MSE : 0.020\n",
            "MAE : 0.080\n",
            "Tiempo de ejecución: 1.13 segundos\n",
            "\n",
            "Evaluando RandomForest con n_estimators=50 y max_depth=20\n",
            "R2  : -0.918\n",
            "MSE : 0.019\n",
            "MAE : 0.080\n",
            "Tiempo de ejecución: 1.13 segundos\n",
            "\n",
            "Evaluando RandomForest con n_estimators=100 y max_depth=3\n",
            "R2  : -1.379\n",
            "MSE : 0.027\n",
            "MAE : 0.098\n",
            "Tiempo de ejecución: 1.19 segundos\n",
            "\n",
            "Evaluando RandomForest con n_estimators=100 y max_depth=5\n",
            "R2  : -0.984\n",
            "MSE : 0.021\n",
            "MAE : 0.083\n",
            "Tiempo de ejecución: 1.48 segundos\n",
            "\n",
            "Evaluando RandomForest con n_estimators=100 y max_depth=10\n",
            "R2  : -0.923\n",
            "MSE : 0.020\n",
            "MAE : 0.080\n",
            "Tiempo de ejecución: 2.94 segundos\n",
            "\n",
            "Evaluando RandomForest con n_estimators=100 y max_depth=15\n",
            "R2  : -0.920\n",
            "MSE : 0.019\n",
            "MAE : 0.080\n",
            "Tiempo de ejecución: 2.26 segundos\n",
            "\n",
            "Evaluando RandomForest con n_estimators=100 y max_depth=20\n",
            "R2  : -0.919\n",
            "MSE : 0.019\n",
            "MAE : 0.080\n",
            "Tiempo de ejecución: 2.27 segundos\n",
            "\n",
            "Evaluando RandomForest con n_estimators=200 y max_depth=3\n",
            "R2  : -1.376\n",
            "MSE : 0.026\n",
            "MAE : 0.098\n",
            "Tiempo de ejecución: 3.66 segundos\n",
            "\n",
            "Evaluando RandomForest con n_estimators=200 y max_depth=5\n",
            "R2  : -0.989\n",
            "MSE : 0.021\n",
            "MAE : 0.083\n",
            "Tiempo de ejecución: 5.22 segundos\n",
            "\n",
            "Evaluando RandomForest con n_estimators=200 y max_depth=10\n",
            "R2  : -0.922\n",
            "MSE : 0.019\n",
            "MAE : 0.080\n",
            "Tiempo de ejecución: 4.47 segundos\n",
            "\n",
            "Evaluando RandomForest con n_estimators=200 y max_depth=15\n",
            "R2  : -0.916\n",
            "MSE : 0.019\n",
            "MAE : 0.080\n",
            "Tiempo de ejecución: 4.45 segundos\n",
            "\n",
            "Evaluando RandomForest con n_estimators=200 y max_depth=20\n",
            "R2  : -0.918\n",
            "MSE : 0.019\n",
            "MAE : 0.080\n",
            "Tiempo de ejecución: 6.79 segundos\n",
            "\n",
            "Mejor configuración Random Forest:\n",
            "{'n_estimators': 10, 'max_depth': 20, 'r2': np.float64(-0.903226663956843), 'mse': np.float64(0.019231518882477934), 'mae': np.float64(0.0800225546234981), 'tiempo': 0.2615823745727539}\n"
          ]
        }
      ]
    },
    {
      "cell_type": "markdown",
      "source": [
        "### Model Layer Perceptron (MLP)"
      ],
      "metadata": {
        "id": "2aNTN7HA48zO"
      }
    },
    {
      "cell_type": "markdown",
      "source": [
        "#### Modelización"
      ],
      "metadata": {
        "id": "BMMJS4h859vZ"
      }
    },
    {
      "cell_type": "markdown",
      "source": [
        "##### **Justificación de selección de hiperparámetros**\n",
        "\n",
        "Se probaron los hiperparámetros del MLP por las siguientes razones:\n",
        "\n",
        "**hidden_configs (número de neuronas en las capas ocultas):**\n",
        "\n",
        "Determina la capacidad del modelo para aprender patrones complejos en los datos.\n",
        "\n",
        "Configuraciones más grandes permiten capturar relaciones no lineales más sofisticadas, mientras que configuraciones más pequeñas favorecen la generalización y reducen el riesgo de sobreajuste.\n",
        "\n",
        "**learning_rates (tasas de aprendizaje):**\n",
        "\n",
        "Controla el tamaño de los pasos que da el optimizador durante la actualización de pesos.\n",
        "\n",
        "Tasas muy altas pueden hacer que el modelo no converja, mientras que tasas muy bajas ralentizan el entrenamiento. Probar distintos valores permite equilibrar rapidez y estabilidad de la convergencia.\n",
        "\n",
        "**n_epochs_list (cantidad de épocas):**\n",
        "\n",
        "Determina cuántas veces el modelo recorre todo el conjunto de entrenamiento.\n",
        "\n",
        "Más épocas permiten al modelo aprender mejor los patrones, pero un número excesivo puede provocar sobreajuste.\n",
        "\n",
        "**dropout_prob (probabilidad de Dropout):**\n",
        "\n",
        "Ayuda a regularizar el modelo evitando que ciertas neuronas se vuelvan demasiado dominantes.\n",
        "\n",
        "Mejora la generalización y reduce el riesgo de sobreajuste, especialmente en redes profundas o con pocos datos."
      ],
      "metadata": {
        "id": "bpVgnQQmGKME"
      }
    },
    {
      "cell_type": "code",
      "source": [
        "import torch\n",
        "import torch.nn as nn\n",
        "import torch.optim as optim\n",
        "from sklearn.metrics import r2_score, mean_squared_error, mean_absolute_error\n",
        "import time\n",
        "\n",
        "# Convertir datos escalados a tensores\n",
        "\n",
        "X_train_tensor = torch.FloatTensor(x_train.to_numpy())\n",
        "y_train_tensor = torch.FloatTensor(y_train.to_numpy())\n",
        "X_test_tensor  = torch.FloatTensor(x_test.to_numpy())\n",
        "y_test_tensor  = torch.FloatTensor(y_test.to_numpy())\n",
        "\n",
        "\n",
        "# Definir modelo MLP con Dropout\n",
        "class MLPRegressor(nn.Module):\n",
        "    \"\"\"\n",
        "    Perceptrón multicapa para regresión con Dropout.\n",
        "    \"\"\"\n",
        "    def __init__(self, input_dim, hidden1, hidden2, dropout_prob=0.2, output_dim=1):\n",
        "        super(MLPRegressor, self).__init__()\n",
        "        self.fc1 = nn.Linear(input_dim, hidden1)\n",
        "        self.act1 = nn.ReLU()\n",
        "        self.drop1 = nn.Dropout(dropout_prob)\n",
        "        self.fc2 = nn.Linear(hidden1, hidden2)\n",
        "        self.act2 = nn.ReLU()\n",
        "        self.drop2 = nn.Dropout(dropout_prob)\n",
        "        self.fc3 = nn.Linear(hidden2, output_dim)\n",
        "\n",
        "    def forward(self, x):\n",
        "        x = self.fc1(x)\n",
        "        x = self.act1(x)\n",
        "        x = self.drop1(x)\n",
        "        x = self.fc2(x)\n",
        "        x = self.act2(x)\n",
        "        x = self.drop2(x)\n",
        "        x = self.fc3(x)\n",
        "        return x\n",
        "\n",
        "\n",
        "# Configuraciones de hiperparámetros a probar\n",
        "\n",
        "hidden_configs = [\n",
        "    (16, 8),\n",
        "    (32, 16),\n",
        "    (64, 32),\n",
        "    (128, 64)\n",
        "]\n",
        "\n",
        "learning_rates = [0.001, 0.01, 0.05]  # Diferentes tasas de aprendizaje\n",
        "n_epochs_list = [100, 200, 300]       # Diferentes cantidades de épocas\n",
        "dropout_prob = 0.2\n",
        "\n",
        "mejor_r2 = -float('inf')\n",
        "mejor_config_mlp = None"
      ],
      "metadata": {
        "id": "qPBKgtono4CW"
      },
      "execution_count": null,
      "outputs": []
    },
    {
      "cell_type": "markdown",
      "source": [
        "#### Entrenamiento y evaluación del modelo\n"
      ],
      "metadata": {
        "id": "zGpIdjDLCVsL"
      }
    },
    {
      "cell_type": "code",
      "source": [
        "\n",
        "\n",
        "# Iterar sobre configuraciones de neuronas, learning rate y épocas (hiperparámetros)\n",
        "for h1, h2 in hidden_configs:\n",
        "    for lr in learning_rates:\n",
        "        for n_epochs in n_epochs_list:\n",
        "            print(f\"\\nEntrenando MLP con hidden1={h1}, hidden2={h2}, lr={lr}, epochs={n_epochs}\")\n",
        "\n",
        "            # Inicializar modelo\n",
        "            model = MLPRegressor(input_dim=X_train_tensor.shape[1], hidden1=h1, hidden2=h2, dropout_prob=dropout_prob)\n",
        "\n",
        "            # Definir función de pérdida y optimizador SGD\n",
        "            criterion = nn.MSELoss()\n",
        "            optimizer = optim.SGD(model.parameters(), lr=lr)\n",
        "\n",
        "            # Medir tiempo de entrenamiento\n",
        "            start_time = time.time()\n",
        "\n",
        "            # Entrenamiento del modelo\n",
        "            for epoch in range(n_epochs):\n",
        "                model.train()\n",
        "                optimizer.zero_grad()\n",
        "                outputs = model(X_train_tensor)\n",
        "                loss = criterion(outputs, y_train_tensor)\n",
        "                loss.backward()\n",
        "                optimizer.step()\n",
        "\n",
        "            tiempo_total = time.time() - start_time\n",
        "\n",
        "            # Evaluación del modelo\n",
        "            model.eval()\n",
        "            with torch.no_grad():\n",
        "                y_pred = model(X_test_tensor).numpy()\n",
        "\n",
        "            r2   = r2_score(y_test, y_pred)\n",
        "            mse  = mean_squared_error(y_test, y_pred)\n",
        "            mae  = mean_absolute_error(y_test, y_pred)\n",
        "\n",
        "            print(f\"R2={r2:.4f}, MSE={mse:.4f}, MAE={mae:.4f}, Tiempo={tiempo_total:.2f}s\")\n",
        "\n",
        "            # Guardar mejor configuración basada en R2\n",
        "            if r2 > mejor_r2:\n",
        "                mejor_r2 = r2\n",
        "                mejor_config_mlp = {\n",
        "                    \"hidden1\": h1,\n",
        "                    \"hidden2\": h2,\n",
        "                    \"dropout\": dropout_prob,\n",
        "                    \"learning_rate\": lr,\n",
        "                    \"n_epochs\": n_epochs,\n",
        "                    \"r2\": r2,\n",
        "                    \"mse\": mse,\n",
        "                    \"mae\": mae,\n",
        "                    \"tiempo\": tiempo_total\n",
        "                }\n",
        "\n",
        "print(\"Mejor configuración MLP:\")\n",
        "print(mejor_config_mlp)\n"
      ],
      "metadata": {
        "colab": {
          "base_uri": "https://localhost:8080/"
        },
        "id": "Vx3vor6KCbuj",
        "outputId": "7054168f-a1e2-4cb4-9400-d7d246d3d226"
      },
      "execution_count": null,
      "outputs": [
        {
          "output_type": "stream",
          "name": "stdout",
          "text": [
            "\n",
            "Entrenando MLP con hidden1=16, hidden2=8, lr=0.001, epochs=100\n"
          ]
        },
        {
          "output_type": "stream",
          "name": "stderr",
          "text": [
            "/usr/local/lib/python3.12/dist-packages/torch/nn/modules/loss.py:616: UserWarning: Using a target size (torch.Size([1003])) that is different to the input size (torch.Size([1003, 1])). This will likely lead to incorrect results due to broadcasting. Please ensure they have the same size.\n",
            "  return F.mse_loss(input, target, reduction=self.reduction)\n"
          ]
        },
        {
          "output_type": "stream",
          "name": "stdout",
          "text": [
            "R2=-13.8835, MSE=0.3632, MAE=0.5765, Tiempo=0.49s\n",
            "\n",
            "Entrenando MLP con hidden1=16, hidden2=8, lr=0.001, epochs=200\n"
          ]
        },
        {
          "output_type": "stream",
          "name": "stderr",
          "text": [
            "/usr/local/lib/python3.12/dist-packages/torch/nn/modules/loss.py:616: UserWarning: Using a target size (torch.Size([1003])) that is different to the input size (torch.Size([1003, 1])). This will likely lead to incorrect results due to broadcasting. Please ensure they have the same size.\n",
            "  return F.mse_loss(input, target, reduction=self.reduction)\n"
          ]
        },
        {
          "output_type": "stream",
          "name": "stdout",
          "text": [
            "R2=-5.1833, MSE=0.1509, MAE=0.3574, Tiempo=1.03s\n",
            "\n",
            "Entrenando MLP con hidden1=16, hidden2=8, lr=0.001, epochs=300\n"
          ]
        },
        {
          "output_type": "stream",
          "name": "stderr",
          "text": [
            "/usr/local/lib/python3.12/dist-packages/torch/nn/modules/loss.py:616: UserWarning: Using a target size (torch.Size([1003])) that is different to the input size (torch.Size([1003, 1])). This will likely lead to incorrect results due to broadcasting. Please ensure they have the same size.\n",
            "  return F.mse_loss(input, target, reduction=self.reduction)\n"
          ]
        },
        {
          "output_type": "stream",
          "name": "stdout",
          "text": [
            "R2=-14.9742, MSE=0.3899, MAE=0.6073, Tiempo=1.48s\n",
            "\n",
            "Entrenando MLP con hidden1=16, hidden2=8, lr=0.01, epochs=100\n"
          ]
        },
        {
          "output_type": "stream",
          "name": "stderr",
          "text": [
            "/usr/local/lib/python3.12/dist-packages/torch/nn/modules/loss.py:616: UserWarning: Using a target size (torch.Size([1003])) that is different to the input size (torch.Size([1003, 1])). This will likely lead to incorrect results due to broadcasting. Please ensure they have the same size.\n",
            "  return F.mse_loss(input, target, reduction=self.reduction)\n"
          ]
        },
        {
          "output_type": "stream",
          "name": "stdout",
          "text": [
            "R2=-8.9451, MSE=0.2427, MAE=0.4677, Tiempo=0.48s\n",
            "\n",
            "Entrenando MLP con hidden1=16, hidden2=8, lr=0.01, epochs=200\n"
          ]
        },
        {
          "output_type": "stream",
          "name": "stderr",
          "text": [
            "/usr/local/lib/python3.12/dist-packages/torch/nn/modules/loss.py:616: UserWarning: Using a target size (torch.Size([1003])) that is different to the input size (torch.Size([1003, 1])). This will likely lead to incorrect results due to broadcasting. Please ensure they have the same size.\n",
            "  return F.mse_loss(input, target, reduction=self.reduction)\n"
          ]
        },
        {
          "output_type": "stream",
          "name": "stdout",
          "text": [
            "R2=-7.8206, MSE=0.2153, MAE=0.4354, Tiempo=0.95s\n",
            "\n",
            "Entrenando MLP con hidden1=16, hidden2=8, lr=0.01, epochs=300\n"
          ]
        },
        {
          "output_type": "stream",
          "name": "stderr",
          "text": [
            "/usr/local/lib/python3.12/dist-packages/torch/nn/modules/loss.py:616: UserWarning: Using a target size (torch.Size([1003])) that is different to the input size (torch.Size([1003, 1])). This will likely lead to incorrect results due to broadcasting. Please ensure they have the same size.\n",
            "  return F.mse_loss(input, target, reduction=self.reduction)\n"
          ]
        },
        {
          "output_type": "stream",
          "name": "stdout",
          "text": [
            "R2=-7.1337, MSE=0.1985, MAE=0.4190, Tiempo=1.45s\n",
            "\n",
            "Entrenando MLP con hidden1=16, hidden2=8, lr=0.05, epochs=100\n"
          ]
        },
        {
          "output_type": "stream",
          "name": "stderr",
          "text": [
            "/usr/local/lib/python3.12/dist-packages/torch/nn/modules/loss.py:616: UserWarning: Using a target size (torch.Size([1003])) that is different to the input size (torch.Size([1003, 1])). This will likely lead to incorrect results due to broadcasting. Please ensure they have the same size.\n",
            "  return F.mse_loss(input, target, reduction=self.reduction)\n"
          ]
        },
        {
          "output_type": "stream",
          "name": "stdout",
          "text": [
            "R2=-7.4522, MSE=0.2063, MAE=0.4260, Tiempo=0.65s\n",
            "\n",
            "Entrenando MLP con hidden1=16, hidden2=8, lr=0.05, epochs=200\n"
          ]
        },
        {
          "output_type": "stream",
          "name": "stderr",
          "text": [
            "/usr/local/lib/python3.12/dist-packages/torch/nn/modules/loss.py:616: UserWarning: Using a target size (torch.Size([1003])) that is different to the input size (torch.Size([1003, 1])). This will likely lead to incorrect results due to broadcasting. Please ensure they have the same size.\n",
            "  return F.mse_loss(input, target, reduction=self.reduction)\n"
          ]
        },
        {
          "output_type": "stream",
          "name": "stdout",
          "text": [
            "R2=-8.8492, MSE=0.2404, MAE=0.4596, Tiempo=1.39s\n",
            "\n",
            "Entrenando MLP con hidden1=16, hidden2=8, lr=0.05, epochs=300\n"
          ]
        },
        {
          "output_type": "stream",
          "name": "stderr",
          "text": [
            "/usr/local/lib/python3.12/dist-packages/torch/nn/modules/loss.py:616: UserWarning: Using a target size (torch.Size([1003])) that is different to the input size (torch.Size([1003, 1])). This will likely lead to incorrect results due to broadcasting. Please ensure they have the same size.\n",
            "  return F.mse_loss(input, target, reduction=self.reduction)\n"
          ]
        },
        {
          "output_type": "stream",
          "name": "stdout",
          "text": [
            "R2=-8.5238, MSE=0.2324, MAE=0.4530, Tiempo=1.56s\n",
            "\n",
            "Entrenando MLP con hidden1=32, hidden2=16, lr=0.001, epochs=100\n"
          ]
        },
        {
          "output_type": "stream",
          "name": "stderr",
          "text": [
            "/usr/local/lib/python3.12/dist-packages/torch/nn/modules/loss.py:616: UserWarning: Using a target size (torch.Size([1003])) that is different to the input size (torch.Size([1003, 1])). This will likely lead to incorrect results due to broadcasting. Please ensure they have the same size.\n",
            "  return F.mse_loss(input, target, reduction=self.reduction)\n"
          ]
        },
        {
          "output_type": "stream",
          "name": "stdout",
          "text": [
            "R2=-9.3481, MSE=0.2525, MAE=0.4734, Tiempo=0.53s\n",
            "\n",
            "Entrenando MLP con hidden1=32, hidden2=16, lr=0.001, epochs=200\n"
          ]
        },
        {
          "output_type": "stream",
          "name": "stderr",
          "text": [
            "/usr/local/lib/python3.12/dist-packages/torch/nn/modules/loss.py:616: UserWarning: Using a target size (torch.Size([1003])) that is different to the input size (torch.Size([1003, 1])). This will likely lead to incorrect results due to broadcasting. Please ensure they have the same size.\n",
            "  return F.mse_loss(input, target, reduction=self.reduction)\n"
          ]
        },
        {
          "output_type": "stream",
          "name": "stdout",
          "text": [
            "R2=-10.0173, MSE=0.2689, MAE=0.4976, Tiempo=1.13s\n",
            "\n",
            "Entrenando MLP con hidden1=32, hidden2=16, lr=0.001, epochs=300\n"
          ]
        },
        {
          "output_type": "stream",
          "name": "stderr",
          "text": [
            "/usr/local/lib/python3.12/dist-packages/torch/nn/modules/loss.py:616: UserWarning: Using a target size (torch.Size([1003])) that is different to the input size (torch.Size([1003, 1])). This will likely lead to incorrect results due to broadcasting. Please ensure they have the same size.\n",
            "  return F.mse_loss(input, target, reduction=self.reduction)\n"
          ]
        },
        {
          "output_type": "stream",
          "name": "stdout",
          "text": [
            "R2=-13.0383, MSE=0.3426, MAE=0.5673, Tiempo=1.61s\n",
            "\n",
            "Entrenando MLP con hidden1=32, hidden2=16, lr=0.01, epochs=100\n"
          ]
        },
        {
          "output_type": "stream",
          "name": "stderr",
          "text": [
            "/usr/local/lib/python3.12/dist-packages/torch/nn/modules/loss.py:616: UserWarning: Using a target size (torch.Size([1003])) that is different to the input size (torch.Size([1003, 1])). This will likely lead to incorrect results due to broadcasting. Please ensure they have the same size.\n",
            "  return F.mse_loss(input, target, reduction=self.reduction)\n"
          ]
        },
        {
          "output_type": "stream",
          "name": "stdout",
          "text": [
            "R2=-8.0630, MSE=0.2212, MAE=0.4444, Tiempo=0.55s\n",
            "\n",
            "Entrenando MLP con hidden1=32, hidden2=16, lr=0.01, epochs=200\n"
          ]
        },
        {
          "output_type": "stream",
          "name": "stderr",
          "text": [
            "/usr/local/lib/python3.12/dist-packages/torch/nn/modules/loss.py:616: UserWarning: Using a target size (torch.Size([1003])) that is different to the input size (torch.Size([1003, 1])). This will likely lead to incorrect results due to broadcasting. Please ensure they have the same size.\n",
            "  return F.mse_loss(input, target, reduction=self.reduction)\n"
          ]
        },
        {
          "output_type": "stream",
          "name": "stdout",
          "text": [
            "R2=-5.5235, MSE=0.1592, MAE=0.3776, Tiempo=1.11s\n",
            "\n",
            "Entrenando MLP con hidden1=32, hidden2=16, lr=0.01, epochs=300\n"
          ]
        },
        {
          "output_type": "stream",
          "name": "stderr",
          "text": [
            "/usr/local/lib/python3.12/dist-packages/torch/nn/modules/loss.py:616: UserWarning: Using a target size (torch.Size([1003])) that is different to the input size (torch.Size([1003, 1])). This will likely lead to incorrect results due to broadcasting. Please ensure they have the same size.\n",
            "  return F.mse_loss(input, target, reduction=self.reduction)\n"
          ]
        },
        {
          "output_type": "stream",
          "name": "stdout",
          "text": [
            "R2=-7.4645, MSE=0.2066, MAE=0.4255, Tiempo=1.58s\n",
            "\n",
            "Entrenando MLP con hidden1=32, hidden2=16, lr=0.05, epochs=100\n"
          ]
        },
        {
          "output_type": "stream",
          "name": "stderr",
          "text": [
            "/usr/local/lib/python3.12/dist-packages/torch/nn/modules/loss.py:616: UserWarning: Using a target size (torch.Size([1003])) that is different to the input size (torch.Size([1003, 1])). This will likely lead to incorrect results due to broadcasting. Please ensure they have the same size.\n",
            "  return F.mse_loss(input, target, reduction=self.reduction)\n"
          ]
        },
        {
          "output_type": "stream",
          "name": "stdout",
          "text": [
            "R2=-7.1923, MSE=0.1999, MAE=0.4210, Tiempo=0.52s\n",
            "\n",
            "Entrenando MLP con hidden1=32, hidden2=16, lr=0.05, epochs=200\n"
          ]
        },
        {
          "output_type": "stream",
          "name": "stderr",
          "text": [
            "/usr/local/lib/python3.12/dist-packages/torch/nn/modules/loss.py:616: UserWarning: Using a target size (torch.Size([1003])) that is different to the input size (torch.Size([1003, 1])). This will likely lead to incorrect results due to broadcasting. Please ensure they have the same size.\n",
            "  return F.mse_loss(input, target, reduction=self.reduction)\n"
          ]
        },
        {
          "output_type": "stream",
          "name": "stdout",
          "text": [
            "R2=-7.8537, MSE=0.2161, MAE=0.4380, Tiempo=1.11s\n",
            "\n",
            "Entrenando MLP con hidden1=32, hidden2=16, lr=0.05, epochs=300\n"
          ]
        },
        {
          "output_type": "stream",
          "name": "stderr",
          "text": [
            "/usr/local/lib/python3.12/dist-packages/torch/nn/modules/loss.py:616: UserWarning: Using a target size (torch.Size([1003])) that is different to the input size (torch.Size([1003, 1])). This will likely lead to incorrect results due to broadcasting. Please ensure they have the same size.\n",
            "  return F.mse_loss(input, target, reduction=self.reduction)\n"
          ]
        },
        {
          "output_type": "stream",
          "name": "stdout",
          "text": [
            "R2=-8.4612, MSE=0.2309, MAE=0.4516, Tiempo=2.92s\n",
            "\n",
            "Entrenando MLP con hidden1=64, hidden2=32, lr=0.001, epochs=100\n"
          ]
        },
        {
          "output_type": "stream",
          "name": "stderr",
          "text": [
            "/usr/local/lib/python3.12/dist-packages/torch/nn/modules/loss.py:616: UserWarning: Using a target size (torch.Size([1003])) that is different to the input size (torch.Size([1003, 1])). This will likely lead to incorrect results due to broadcasting. Please ensure they have the same size.\n",
            "  return F.mse_loss(input, target, reduction=self.reduction)\n"
          ]
        },
        {
          "output_type": "stream",
          "name": "stdout",
          "text": [
            "R2=-4.2768, MSE=0.1288, MAE=0.3389, Tiempo=0.84s\n",
            "\n",
            "Entrenando MLP con hidden1=64, hidden2=32, lr=0.001, epochs=200\n"
          ]
        },
        {
          "output_type": "stream",
          "name": "stderr",
          "text": [
            "/usr/local/lib/python3.12/dist-packages/torch/nn/modules/loss.py:616: UserWarning: Using a target size (torch.Size([1003])) that is different to the input size (torch.Size([1003, 1])). This will likely lead to incorrect results due to broadcasting. Please ensure they have the same size.\n",
            "  return F.mse_loss(input, target, reduction=self.reduction)\n"
          ]
        },
        {
          "output_type": "stream",
          "name": "stdout",
          "text": [
            "R2=-14.3877, MSE=0.3755, MAE=0.5951, Tiempo=1.32s\n",
            "\n",
            "Entrenando MLP con hidden1=64, hidden2=32, lr=0.001, epochs=300\n"
          ]
        },
        {
          "output_type": "stream",
          "name": "stderr",
          "text": [
            "/usr/local/lib/python3.12/dist-packages/torch/nn/modules/loss.py:616: UserWarning: Using a target size (torch.Size([1003])) that is different to the input size (torch.Size([1003, 1])). This will likely lead to incorrect results due to broadcasting. Please ensure they have the same size.\n",
            "  return F.mse_loss(input, target, reduction=self.reduction)\n"
          ]
        },
        {
          "output_type": "stream",
          "name": "stdout",
          "text": [
            "R2=-8.8730, MSE=0.2410, MAE=0.4677, Tiempo=1.95s\n",
            "\n",
            "Entrenando MLP con hidden1=64, hidden2=32, lr=0.01, epochs=100\n"
          ]
        },
        {
          "output_type": "stream",
          "name": "stderr",
          "text": [
            "/usr/local/lib/python3.12/dist-packages/torch/nn/modules/loss.py:616: UserWarning: Using a target size (torch.Size([1003])) that is different to the input size (torch.Size([1003, 1])). This will likely lead to incorrect results due to broadcasting. Please ensure they have the same size.\n",
            "  return F.mse_loss(input, target, reduction=self.reduction)\n"
          ]
        },
        {
          "output_type": "stream",
          "name": "stdout",
          "text": [
            "R2=-6.8184, MSE=0.1908, MAE=0.4104, Tiempo=0.66s\n",
            "\n",
            "Entrenando MLP con hidden1=64, hidden2=32, lr=0.01, epochs=200\n"
          ]
        },
        {
          "output_type": "stream",
          "name": "stderr",
          "text": [
            "/usr/local/lib/python3.12/dist-packages/torch/nn/modules/loss.py:616: UserWarning: Using a target size (torch.Size([1003])) that is different to the input size (torch.Size([1003, 1])). This will likely lead to incorrect results due to broadcasting. Please ensure they have the same size.\n",
            "  return F.mse_loss(input, target, reduction=self.reduction)\n"
          ]
        },
        {
          "output_type": "stream",
          "name": "stdout",
          "text": [
            "R2=-5.9064, MSE=0.1686, MAE=0.3881, Tiempo=1.31s\n",
            "\n",
            "Entrenando MLP con hidden1=64, hidden2=32, lr=0.01, epochs=300\n"
          ]
        },
        {
          "output_type": "stream",
          "name": "stderr",
          "text": [
            "/usr/local/lib/python3.12/dist-packages/torch/nn/modules/loss.py:616: UserWarning: Using a target size (torch.Size([1003])) that is different to the input size (torch.Size([1003, 1])). This will likely lead to incorrect results due to broadcasting. Please ensure they have the same size.\n",
            "  return F.mse_loss(input, target, reduction=self.reduction)\n"
          ]
        },
        {
          "output_type": "stream",
          "name": "stdout",
          "text": [
            "R2=-7.4226, MSE=0.2056, MAE=0.4265, Tiempo=1.94s\n",
            "\n",
            "Entrenando MLP con hidden1=64, hidden2=32, lr=0.05, epochs=100\n"
          ]
        },
        {
          "output_type": "stream",
          "name": "stderr",
          "text": [
            "/usr/local/lib/python3.12/dist-packages/torch/nn/modules/loss.py:616: UserWarning: Using a target size (torch.Size([1003])) that is different to the input size (torch.Size([1003, 1])). This will likely lead to incorrect results due to broadcasting. Please ensure they have the same size.\n",
            "  return F.mse_loss(input, target, reduction=self.reduction)\n"
          ]
        },
        {
          "output_type": "stream",
          "name": "stdout",
          "text": [
            "R2=-7.4120, MSE=0.2053, MAE=0.4266, Tiempo=0.62s\n",
            "\n",
            "Entrenando MLP con hidden1=64, hidden2=32, lr=0.05, epochs=200\n"
          ]
        },
        {
          "output_type": "stream",
          "name": "stderr",
          "text": [
            "/usr/local/lib/python3.12/dist-packages/torch/nn/modules/loss.py:616: UserWarning: Using a target size (torch.Size([1003])) that is different to the input size (torch.Size([1003, 1])). This will likely lead to incorrect results due to broadcasting. Please ensure they have the same size.\n",
            "  return F.mse_loss(input, target, reduction=self.reduction)\n"
          ]
        },
        {
          "output_type": "stream",
          "name": "stdout",
          "text": [
            "R2=-8.4538, MSE=0.2307, MAE=0.4528, Tiempo=1.28s\n",
            "\n",
            "Entrenando MLP con hidden1=64, hidden2=32, lr=0.05, epochs=300\n"
          ]
        },
        {
          "output_type": "stream",
          "name": "stderr",
          "text": [
            "/usr/local/lib/python3.12/dist-packages/torch/nn/modules/loss.py:616: UserWarning: Using a target size (torch.Size([1003])) that is different to the input size (torch.Size([1003, 1])). This will likely lead to incorrect results due to broadcasting. Please ensure they have the same size.\n",
            "  return F.mse_loss(input, target, reduction=self.reduction)\n"
          ]
        },
        {
          "output_type": "stream",
          "name": "stdout",
          "text": [
            "R2=-7.2788, MSE=0.2020, MAE=0.4231, Tiempo=4.34s\n",
            "\n",
            "Entrenando MLP con hidden1=128, hidden2=64, lr=0.001, epochs=100\n"
          ]
        },
        {
          "output_type": "stream",
          "name": "stderr",
          "text": [
            "/usr/local/lib/python3.12/dist-packages/torch/nn/modules/loss.py:616: UserWarning: Using a target size (torch.Size([1003])) that is different to the input size (torch.Size([1003, 1])). This will likely lead to incorrect results due to broadcasting. Please ensure they have the same size.\n",
            "  return F.mse_loss(input, target, reduction=self.reduction)\n"
          ]
        },
        {
          "output_type": "stream",
          "name": "stdout",
          "text": [
            "R2=-16.6342, MSE=0.4304, MAE=0.6357, Tiempo=0.92s\n",
            "\n",
            "Entrenando MLP con hidden1=128, hidden2=64, lr=0.001, epochs=200\n"
          ]
        },
        {
          "output_type": "stream",
          "name": "stderr",
          "text": [
            "/usr/local/lib/python3.12/dist-packages/torch/nn/modules/loss.py:616: UserWarning: Using a target size (torch.Size([1003])) that is different to the input size (torch.Size([1003, 1])). This will likely lead to incorrect results due to broadcasting. Please ensure they have the same size.\n",
            "  return F.mse_loss(input, target, reduction=self.reduction)\n"
          ]
        },
        {
          "output_type": "stream",
          "name": "stdout",
          "text": [
            "R2=-9.3942, MSE=0.2537, MAE=0.4802, Tiempo=1.88s\n",
            "\n",
            "Entrenando MLP con hidden1=128, hidden2=64, lr=0.001, epochs=300\n"
          ]
        },
        {
          "output_type": "stream",
          "name": "stderr",
          "text": [
            "/usr/local/lib/python3.12/dist-packages/torch/nn/modules/loss.py:616: UserWarning: Using a target size (torch.Size([1003])) that is different to the input size (torch.Size([1003, 1])). This will likely lead to incorrect results due to broadcasting. Please ensure they have the same size.\n",
            "  return F.mse_loss(input, target, reduction=self.reduction)\n"
          ]
        },
        {
          "output_type": "stream",
          "name": "stdout",
          "text": [
            "R2=-8.8881, MSE=0.2413, MAE=0.4676, Tiempo=2.72s\n",
            "\n",
            "Entrenando MLP con hidden1=128, hidden2=64, lr=0.01, epochs=100\n"
          ]
        },
        {
          "output_type": "stream",
          "name": "stderr",
          "text": [
            "/usr/local/lib/python3.12/dist-packages/torch/nn/modules/loss.py:616: UserWarning: Using a target size (torch.Size([1003])) that is different to the input size (torch.Size([1003, 1])). This will likely lead to incorrect results due to broadcasting. Please ensure they have the same size.\n",
            "  return F.mse_loss(input, target, reduction=self.reduction)\n"
          ]
        },
        {
          "output_type": "stream",
          "name": "stdout",
          "text": [
            "R2=-6.8804, MSE=0.1923, MAE=0.4140, Tiempo=0.93s\n",
            "\n",
            "Entrenando MLP con hidden1=128, hidden2=64, lr=0.01, epochs=200\n"
          ]
        },
        {
          "output_type": "stream",
          "name": "stderr",
          "text": [
            "/usr/local/lib/python3.12/dist-packages/torch/nn/modules/loss.py:616: UserWarning: Using a target size (torch.Size([1003])) that is different to the input size (torch.Size([1003, 1])). This will likely lead to incorrect results due to broadcasting. Please ensure they have the same size.\n",
            "  return F.mse_loss(input, target, reduction=self.reduction)\n"
          ]
        },
        {
          "output_type": "stream",
          "name": "stdout",
          "text": [
            "R2=-7.7788, MSE=0.2142, MAE=0.4365, Tiempo=1.82s\n",
            "\n",
            "Entrenando MLP con hidden1=128, hidden2=64, lr=0.01, epochs=300\n"
          ]
        },
        {
          "output_type": "stream",
          "name": "stderr",
          "text": [
            "/usr/local/lib/python3.12/dist-packages/torch/nn/modules/loss.py:616: UserWarning: Using a target size (torch.Size([1003])) that is different to the input size (torch.Size([1003, 1])). This will likely lead to incorrect results due to broadcasting. Please ensure they have the same size.\n",
            "  return F.mse_loss(input, target, reduction=self.reduction)\n"
          ]
        },
        {
          "output_type": "stream",
          "name": "stdout",
          "text": [
            "R2=-6.7300, MSE=0.1887, MAE=0.4106, Tiempo=3.45s\n",
            "\n",
            "Entrenando MLP con hidden1=128, hidden2=64, lr=0.05, epochs=100\n"
          ]
        },
        {
          "output_type": "stream",
          "name": "stderr",
          "text": [
            "/usr/local/lib/python3.12/dist-packages/torch/nn/modules/loss.py:616: UserWarning: Using a target size (torch.Size([1003])) that is different to the input size (torch.Size([1003, 1])). This will likely lead to incorrect results due to broadcasting. Please ensure they have the same size.\n",
            "  return F.mse_loss(input, target, reduction=self.reduction)\n"
          ]
        },
        {
          "output_type": "stream",
          "name": "stdout",
          "text": [
            "R2=-6.4242, MSE=0.1812, MAE=0.4012, Tiempo=1.07s\n",
            "\n",
            "Entrenando MLP con hidden1=128, hidden2=64, lr=0.05, epochs=200\n"
          ]
        },
        {
          "output_type": "stream",
          "name": "stderr",
          "text": [
            "/usr/local/lib/python3.12/dist-packages/torch/nn/modules/loss.py:616: UserWarning: Using a target size (torch.Size([1003])) that is different to the input size (torch.Size([1003, 1])). This will likely lead to incorrect results due to broadcasting. Please ensure they have the same size.\n",
            "  return F.mse_loss(input, target, reduction=self.reduction)\n"
          ]
        },
        {
          "output_type": "stream",
          "name": "stdout",
          "text": [
            "R2=-7.5403, MSE=0.2084, MAE=0.4282, Tiempo=1.83s\n",
            "\n",
            "Entrenando MLP con hidden1=128, hidden2=64, lr=0.05, epochs=300\n"
          ]
        },
        {
          "output_type": "stream",
          "name": "stderr",
          "text": [
            "/usr/local/lib/python3.12/dist-packages/torch/nn/modules/loss.py:616: UserWarning: Using a target size (torch.Size([1003])) that is different to the input size (torch.Size([1003, 1])). This will likely lead to incorrect results due to broadcasting. Please ensure they have the same size.\n",
            "  return F.mse_loss(input, target, reduction=self.reduction)\n"
          ]
        },
        {
          "output_type": "stream",
          "name": "stdout",
          "text": [
            "R2=-7.3637, MSE=0.2041, MAE=0.4245, Tiempo=2.81s\n",
            "Mejor configuración MLP:\n",
            "{'hidden1': 64, 'hidden2': 32, 'dropout': 0.2, 'learning_rate': 0.001, 'n_epochs': 100, 'r2': -4.276763326097182, 'mse': 0.12877991977236217, 'mae': 0.33886892909207456, 'tiempo': 0.8395240306854248}\n"
          ]
        }
      ]
    },
    {
      "cell_type": "code",
      "source": [
        "from prettytable import PrettyTable\n",
        "\n",
        "# Ejemplo de diccionarios de mejores configuraciones\n",
        "# mejor_config_rf = {'n_estimators': 100, 'max_depth': 10, 'r2': 0.85, 'mse': 0.02, 'mae': 0.08, 'tiempo': 0.27}\n",
        "# mejor_config_mlp = {'hidden1': 64, 'hidden2': 32, 'dropout': 0.2, 'r2': 0.88, 'mse': 0.018, 'mae': 0.075, 'tiempo': 12.5}\n",
        "\n",
        "# Crear tabla\n",
        "tabla = PrettyTable()\n",
        "tabla.field_names = [\"Modelo\", \"Parámetros\", \"R²\", \"MSE\", \"MAE\", \"Tiempo (s)\"]\n",
        "\n",
        "# Random Forest\n",
        "param_rf = f\"n_estimators={mejor_config_rf['n_estimators']}, max_depth={mejor_config_rf['max_depth']}\"\n",
        "tabla.add_row([\"Random Forest\", param_rf, f\"{mejor_config_rf['r2']:.4f}\",\n",
        "               f\"{mejor_config_rf['mse']:.4f}\", f\"{mejor_config_rf['mae']:.4f}\",\n",
        "               f\"{mejor_config_rf['tiempo']:.2f}\"])\n",
        "\n",
        "# MLP\n",
        "param_mlp = f\"hidden1={mejor_config_mlp['hidden1']}, hidden2={mejor_config_mlp['hidden2']}, dropout={mejor_config_mlp['dropout']}\"\n",
        "tabla.add_row([\"MLP Regressor\", param_mlp, f\"{mejor_config_mlp['r2']:.4f}\",\n",
        "               f\"{mejor_config_mlp['mse']:.4f}\", f\"{mejor_config_mlp['mae']:.4f}\",\n",
        "               f\"{mejor_config_mlp['tiempo']:.2f}\"])\n",
        "\n",
        "# Mostrar tabla\n",
        "print(tabla)\n"
      ],
      "metadata": {
        "colab": {
          "base_uri": "https://localhost:8080/"
        },
        "id": "l4DRDQk1BGtA",
        "outputId": "3991abd1-9541-43f2-e4db-b3e5cb777675"
      },
      "execution_count": null,
      "outputs": [
        {
          "output_type": "stream",
          "name": "stdout",
          "text": [
            "+---------------+-------------------------------------+---------+--------+--------+------------+\n",
            "|     Modelo    |              Parámetros             |    R²   |  MSE   |  MAE   | Tiempo (s) |\n",
            "+---------------+-------------------------------------+---------+--------+--------+------------+\n",
            "| Random Forest |    n_estimators=10, max_depth=20    | -0.9032 | 0.0192 | 0.0800 |    0.26    |\n",
            "| MLP Regressor | hidden1=64, hidden2=32, dropout=0.2 | -4.2768 | 0.1288 | 0.3389 |    0.84    |\n",
            "+---------------+-------------------------------------+---------+--------+--------+------------+\n"
          ]
        }
      ]
    },
    {
      "cell_type": "markdown",
      "source": [
        "## Resultados y discusión"
      ],
      "metadata": {
        "id": "8DjR9QsMAQhB"
      }
    },
    {
      "cell_type": "markdown",
      "source": [
        "La comparación entre los modelos Random Forest y MLP Regressor revela un desempeño notablemente diferente en el contexto de predicción del precio de cierre del café.\n",
        "\n",
        "El Random Forest muestra un valor de R² = -0.9032, lo que indica que el modelo logra capturar parte de la variabilidad de los datos, aunque todavía presenta limitaciones. Los errores absolutos y cuadrados medios son relativamente bajos (MSE = 0.0192, MAE = 0.0800), y el tiempo de entrenamiento es muy reducido (0.26 s), reflejando la eficiencia computacional del modelo incluso con pocos árboles y profundidad moderada. Esto sugiere que Random Forest es capaz de adaptarse razonablemente a las características del conjunto de datos sin requerir ajustes complejos de hiperparámetros.\n",
        "\n",
        "Por su parte, el MLP Regressor presenta un desempeño significativamente inferior (R² más negativo), a pesar de ser un modelo más flexible y capaz de capturar relaciones no lineales. Este bajo desempeño puede deberse a varios factores: la configuración inicial de neuronas y capas, el conjunto de datos podría no ser lo suficientemente grande para entrenar un perceptrón multicapa eficazmente, o el aprendizaje puede estar dificultado por la necesidad de más épocas o un ajuste más fino de la tasa de aprendizaje.\n",
        "\n",
        "En resumen, en este escenario particular, Random Forest supera claramente a la MLP Regressor, tanto en términos de precisión como de eficiencia computacional. Esto indica que, para series de tiempo de precios con la configuración y cantidad de datos disponibles, los modelos de ensamble como Random Forest pueden ofrecer una ventaja significativa frente a redes neuronales densas simples, especialmente cuando se requiere rapidez y robustez sin un ajuste exhaustivo de hiperparámetros."
      ],
      "metadata": {
        "id": "7f1hZry0CH3j"
      }
    },
    {
      "cell_type": "markdown",
      "source": [
        "## Conclusiones\n",
        "\n"
      ],
      "metadata": {
        "id": "z_GiUyAfAa-n"
      }
    },
    {
      "cell_type": "markdown",
      "source": [
        "1. Random Forest supera al MLP: Presenta errores más bajos y un R² menos negativo, mostrando mejor capacidad predictiva.\n",
        "\n",
        "2. Mayor eficiencia computacional: Random Forest entrena más rápido que el MLP, siendo adecuado para ejecuciones rápidas.\n",
        "\n",
        "3. MLP limitado por configuración y datos: La red neuronal simple no logra capturar correctamente la dinámica de los precios con la configuración inicial.\n",
        "\n",
        "4. Capacidad de manejar no linealidades: Aunque el MLP puede modelar relaciones complejas, la falta de datos o configuración limita su desempeño actual.\n",
        "\n",
        "5. Importancia de hiperparámetros: Ajustes de n_estimators y max_depth en Random Forest influyen significativamente en la precisión y eficiencia del modelo.\n"
      ],
      "metadata": {
        "id": "FkfMYzkyDtD2"
      }
    },
    {
      "cell_type": "markdown",
      "source": [
        "## Fuentes\n"
      ],
      "metadata": {
        "id": "OKQJJJ6hM461"
      }
    },
    {
      "cell_type": "markdown",
      "source": [
        "[1] Instituto del Café de Costa Rica (ICAFE), Informe sobre la Actividad Cafetalera de Costa Rica, San José, Costa Rica, 2024. [En línea]. Disponible en: https://www.icafe.cr/wp-content/uploads/informacion_mercado/informes_actividad/actual/Informe%20Actividad%20Cafetalera.pdf\n",
        "\n",
        "\n",
        "[2] C. Deina, M. H. do Amaral Prates, C. H. R. Alves, M. S. R. Martins, F. Trojan, S. L. Stevan Jr. y H. V. Siqueira,\n",
        "“A methodology for coffee price forecasting based on extreme learning machines,” *Information Processing in Agriculture*,\n",
        "vol. 9, no. 4, pp. 556–565, 2022. [En línea]. Disponible en: https://doi.org/10.1016/j.inpa.2021.07.003\n",
        "\n",
        "[3] Y. Wang, L. Zhou y H. Li, “Analysis of Multi-Layer Perceptron and Long Short-Term Memory on Predicting Cocoa Futures Price,” Journal of Human Society and Emerging Technologies, vol. 3, no. 2, pp. 98–107, 2023. [En línea]. Disponible en: https://www.researchgate.net/publication/367620807_Analysis_of_Multi-Layer_Perceptron_and_Long_Short-Term_Memory_on_Predicting_Cocoa_Futures_Price/fulltext/63d94d2cc97bd76a824e8c10/Analysis-of-Multi-Layer-Perceptron-and-Long-Short-Term-Memory-on-Predicting-Cocoa-Futures-Price.pdf?_tp=eyJjb250ZXh0Ijp7ImZpcnN0UGFnZSI6InB1YmxpY2F0aW9uIiwicGFnZSI6InB1YmxpY2F0aW9uIn19&__cf_chl_tk=af6lRrrsK.Mti0AqfVC.tm94cndcCkV6AKSc0Bj5rJo-1756738416-1.0.1.1-KBVvsWkF5tpD11A1L1REmPGnRkBfWPxpTpjbjRby6a4\n",
        "\n",
        "[4] Y. Chen,\n",
        "\"Research on Machine Learning-based Prediction of Coffee Futures Prices,\"\n",
        "en *Highlights in Science, Engineering and Technology SDPIT 2024, Vol. 92*, 3rd International Conference on Software, Data Processing and Information Technology (SDPIT), 2024. [En línea]. Disponible en: https://drpress.org/ojs/index.php/HSET/article/view/19873/19453\n",
        "\n",
        "[5] S. A. Basher y P. Sadorsky, \"Forecasting Bitcoin price direction with random forests: How important are interest rates, inflation, and market volatility?,\" Machine Learning with Applications, vol. 9, p. 100355, 2022. [En línea]. Disponible en: https://www.sciencedirect.com/science/article/pii/S266682702200055X\n",
        "\n",
        "[6] Yahoo Finance, \"KC=F Coffee Futures Historical Data,\" Yahoo Finance. [En línea]. Disponible en: https://finance.yahoo.com/quote/KC%3DF/history/. [Accedido: 18-ago-2025].\n"
      ],
      "metadata": {
        "id": "N7oBEgdIEQ-l"
      }
    }
  ]
}